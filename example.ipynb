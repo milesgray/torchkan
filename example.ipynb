{
 "cells": [
  {
   "cell_type": "code",
   "execution_count": 1,
   "id": "d2179081-b6bf-49ab-ae18-88f27e0d2ef1",
   "metadata": {},
   "outputs": [],
   "source": [
    "import time\n",
    "import tqdm\n",
    "\n",
    "import numpy as np\n",
    "import pandas as pd\n",
    "\n",
    "import torch\n",
    "from torch import nn, optim\n",
    "\n",
    "from IPython.display import display\n",
    "import matplotlib.pyplot as plt\n",
    "\n",
    "from torchkan.data import timeseries\n",
    "from torchkan.models import TKAT, TKAN"
   ]
  },
  {
   "cell_type": "code",
   "execution_count": null,
   "id": "b7d167dc-794c-4521-9135-ef390683d252",
   "metadata": {},
   "outputs": [],
   "source": []
  },
  {
   "cell_type": "code",
   "execution_count": 2,
   "id": "3372e6c2-bd6f-449c-b909-6acd5b1186c6",
   "metadata": {},
   "outputs": [
    {
     "data": {
      "text/plain": [
       "150"
      ]
     },
     "execution_count": 2,
     "metadata": {},
     "output_type": "execute_result"
    }
   ],
   "source": [
    "num_hidden = 64\n",
    "num_heads = 4\n",
    "num_embedding = 1\n",
    "n_ahead = 30\n",
    "sequence_length = 5 * n_ahead\n",
    "sequence_length"
   ]
  },
  {
   "cell_type": "code",
   "execution_count": 3,
   "id": "ba7a913b-3829-45fe-bb2e-cda7f2ab27cd",
   "metadata": {},
   "outputs": [],
   "source": [
    "def get_crypto_dataloaders(\n",
    "    path = \"torchkan/data/data.parquet\", \n",
    "    n_ahead = 30,\n",
    "    batch_size=16\n",
    "):\n",
    "    # Load California housing dataset\n",
    "    df = timeseries.load_crypto(path)\n",
    "\n",
    "    known_input_df = pd.DataFrame(\n",
    "        index=df.index, \n",
    "        data=np.array([\n",
    "            df.reset_index()['group'].apply(lambda x: (x.hour)).values, \n",
    "            df.reset_index()['group'].apply(lambda x: (x.dayofweek)).values\n",
    "        ]).T, \n",
    "        columns = ['hour', 'dayofweek'])\n",
    "    \n",
    "    X_scaler, X_train, X_test, \\\n",
    "        X_train_unscaled, X_test_unscaled, \\\n",
    "            y_scaler, y_train, y_test, \\\n",
    "                y_train_unscaled, y_test_unscaled, \\\n",
    "                    y_scaler_train, y_scaler_test = \\\n",
    "        timeseries.generate_data_w_known_inputs(df, \n",
    "                                                known_input_df,\n",
    "                                                sequence_length, \n",
    "                                                n_ahead)\n",
    "\n",
    "    # Create data loaders (optional, if you want to batch and shuffle the data)\n",
    "    train_loader = torch.utils.data.DataLoader(\n",
    "        torch.utils.data.TensorDataset(X_train, y_train), \n",
    "        batch_size=batch_size, \n",
    "        shuffle=True)\n",
    "    test_loader = torch.utils.data.DataLoader(\n",
    "        torch.utils.data.TensorDataset(X_test, y_test), \n",
    "        batch_size=batch_size, \n",
    "        shuffle=False)\n",
    "\n",
    "    return train_loader, test_loader"
   ]
  },
  {
   "cell_type": "code",
   "execution_count": 4,
   "id": "b458ed3c-3c9a-43cb-a787-2ab63aaceec5",
   "metadata": {
    "scrolled": true
   },
   "outputs": [
    {
     "name": "stderr",
     "output_type": "stream",
     "text": [
      "/home/miles/Development/notebooks/torchkan/torchkan/data/timeseries.py:82: UserWarning: To copy construct from a tensor, it is recommended to use sourceTensor.clone().detach() or sourceTensor.clone().detach().requires_grad_(True), rather than torch.tensor(sourceTensor).\n",
      "  return torch.tensor(data, dtype=dtype).to(device)\n"
     ]
    },
    {
     "data": {
      "text/plain": [
       "([torch.Size([20607, 180, 21]), torch.Size([20607, 30])],\n",
       " [torch.Size([5152, 180, 21]), torch.Size([5152, 30])])"
      ]
     },
     "execution_count": 4,
     "metadata": {},
     "output_type": "execute_result"
    }
   ],
   "source": [
    "train_loader, test_loader = get_crypto_dataloaders(n_ahead=n_ahead)\n",
    "[t.shape for t in train_loader.dataset.tensors], [t.shape for t in test_loader.dataset.tensors]"
   ]
  },
  {
   "cell_type": "code",
   "execution_count": 5,
   "id": "6898d63d-6465-4981-b7f6-f48d483e8723",
   "metadata": {},
   "outputs": [
    {
     "data": {
      "text/plain": [
       "torch.Size([20607, 180, 1])"
      ]
     },
     "execution_count": 5,
     "metadata": {},
     "output_type": "execute_result"
    }
   ],
   "source": [
    "shape = train_loader.dataset.tensors[0].shape\n",
    "torch.split(train_loader.dataset.tensors[0], (1,) * shape[-1], -1)[0].shape"
   ]
  },
  {
   "cell_type": "code",
   "execution_count": 6,
   "id": "41c49e31-ff84-46e5-a505-da8c11178124",
   "metadata": {},
   "outputs": [
    {
     "data": {
      "text/plain": [
       "torch.Size([20607, 180, 1])"
      ]
     },
     "execution_count": 6,
     "metadata": {},
     "output_type": "execute_result"
    }
   ],
   "source": [
    "train_loader.dataset.tensors[0][:, :, 0:1].shape"
   ]
  },
  {
   "cell_type": "code",
   "execution_count": 7,
   "id": "af457bbf-7834-4916-9d52-c290592a14fd",
   "metadata": {},
   "outputs": [
    {
     "data": {
      "text/plain": [
       "TKAN(\n",
       "  (tkan_cells): ModuleList(\n",
       "    (0): TKANCell(\n",
       "      (tkan_sub_layers): ModuleList(\n",
       "        (0): KANLinear(\n",
       "          (linear): Linear(in_features=180, out_features=180, bias=True)\n",
       "          (layer_norm): LayerNorm((180,), eps=1e-05, elementwise_affine=True)\n",
       "        )\n",
       "      )\n",
       "    )\n",
       "  )\n",
       ")"
      ]
     },
     "execution_count": 7,
     "metadata": {},
     "output_type": "execute_result"
    }
   ],
   "source": [
    "model = TKAN(input_size=sequence_length+n_ahead, hidden_size=num_hidden)\n",
    "model"
   ]
  },
  {
   "cell_type": "code",
   "execution_count": 8,
   "id": "a8c27031-7045-4ed0-82c6-66bd2e5dc298",
   "metadata": {
    "scrolled": true
   },
   "outputs": [
    {
     "name": "stdout",
     "output_type": "stream",
     "text": [
      "[GRN] in_size: 21, hidden_size: 64, out_size: 21\n",
      "[GRN] in_size: 1, hidden_size: 64, out_size: 64\n",
      "[GRN] in_size: 1, hidden_size: 64, out_size: 64\n",
      "[GRN] in_size: 1, hidden_size: 64, out_size: 64\n",
      "[GRN] in_size: 1, hidden_size: 64, out_size: 64\n",
      "[GRN] in_size: 1, hidden_size: 64, out_size: 64\n",
      "[GRN] in_size: 1, hidden_size: 64, out_size: 64\n",
      "[GRN] in_size: 1, hidden_size: 64, out_size: 64\n",
      "[GRN] in_size: 1, hidden_size: 64, out_size: 64\n",
      "[GRN] in_size: 1, hidden_size: 64, out_size: 64\n",
      "[GRN] in_size: 1, hidden_size: 64, out_size: 64\n",
      "[GRN] in_size: 1, hidden_size: 64, out_size: 64\n",
      "[GRN] in_size: 1, hidden_size: 64, out_size: 64\n",
      "[GRN] in_size: 1, hidden_size: 64, out_size: 64\n",
      "[GRN] in_size: 1, hidden_size: 64, out_size: 64\n",
      "[GRN] in_size: 1, hidden_size: 64, out_size: 64\n",
      "[GRN] in_size: 1, hidden_size: 64, out_size: 64\n",
      "[GRN] in_size: 1, hidden_size: 64, out_size: 64\n",
      "[GRN] in_size: 1, hidden_size: 64, out_size: 64\n",
      "[GRN] in_size: 1, hidden_size: 64, out_size: 64\n",
      "[GRN] in_size: 1, hidden_size: 64, out_size: 64\n",
      "[GRN] in_size: 1, hidden_size: 64, out_size: 64\n",
      "[GRN] in_size: 2, hidden_size: 64, out_size: 2\n",
      "[GRN] in_size: 1, hidden_size: 64, out_size: 64\n",
      "[GRN] in_size: 1, hidden_size: 64, out_size: 64\n",
      "[GRN] in_size: 64, hidden_size: 64, out_size: 64\n"
     ]
    },
    {
     "data": {
      "text/plain": [
       "TKAT(\n",
       "  (embedding_layer): EmbeddingLayer(\n",
       "    (dense_layers): ModuleList(\n",
       "      (0-20): 21 x Linear(in_features=1, out_features=1, bias=True)\n",
       "    )\n",
       "  )\n",
       "  (vsn_past_features): VariableSelectionNetwork(\n",
       "    (mlp_dense): GRN(\n",
       "      (skip_layer): Linear(in_features=21, out_features=21, bias=True)\n",
       "      (hidden_layer_1): Sequential(\n",
       "        (0): Linear(in_features=21, out_features=64, bias=True)\n",
       "        (1): ELU(alpha=1.0)\n",
       "      )\n",
       "      (hidden_layer_2): Linear(in_features=64, out_features=64, bias=True)\n",
       "      (gate_layer): Gate(\n",
       "        (dense_layer): Linear(in_features=64, out_features=21, bias=True)\n",
       "        (gated_layer): Linear(in_features=64, out_features=21, bias=True)\n",
       "      )\n",
       "      (add_and_norm_layer): AddAndNorm(\n",
       "        (norm_layer): LayerNorm((21,), eps=1e-05, elementwise_affine=True)\n",
       "      )\n",
       "    )\n",
       "    (grn_layers): ModuleList(\n",
       "      (0-20): 21 x GRN(\n",
       "        (skip_layer): Linear(in_features=1, out_features=64, bias=True)\n",
       "        (hidden_layer_1): Sequential(\n",
       "          (0): Linear(in_features=1, out_features=64, bias=True)\n",
       "          (1): ELU(alpha=1.0)\n",
       "        )\n",
       "        (hidden_layer_2): Linear(in_features=64, out_features=64, bias=True)\n",
       "        (gate_layer): Gate(\n",
       "          (dense_layer): Linear(in_features=64, out_features=64, bias=True)\n",
       "          (gated_layer): Linear(in_features=64, out_features=64, bias=True)\n",
       "        )\n",
       "        (add_and_norm_layer): AddAndNorm(\n",
       "          (norm_layer): LayerNorm((64,), eps=1e-05, elementwise_affine=True)\n",
       "        )\n",
       "      )\n",
       "    )\n",
       "  )\n",
       "  (vsn_future_features): VariableSelectionNetwork(\n",
       "    (mlp_dense): GRN(\n",
       "      (skip_layer): Linear(in_features=2, out_features=2, bias=True)\n",
       "      (hidden_layer_1): Sequential(\n",
       "        (0): Linear(in_features=2, out_features=64, bias=True)\n",
       "        (1): ELU(alpha=1.0)\n",
       "      )\n",
       "      (hidden_layer_2): Linear(in_features=64, out_features=64, bias=True)\n",
       "      (gate_layer): Gate(\n",
       "        (dense_layer): Linear(in_features=64, out_features=2, bias=True)\n",
       "        (gated_layer): Linear(in_features=64, out_features=2, bias=True)\n",
       "      )\n",
       "      (add_and_norm_layer): AddAndNorm(\n",
       "        (norm_layer): LayerNorm((2,), eps=1e-05, elementwise_affine=True)\n",
       "      )\n",
       "    )\n",
       "    (grn_layers): ModuleList(\n",
       "      (0-1): 2 x GRN(\n",
       "        (skip_layer): Linear(in_features=1, out_features=64, bias=True)\n",
       "        (hidden_layer_1): Sequential(\n",
       "          (0): Linear(in_features=1, out_features=64, bias=True)\n",
       "          (1): ELU(alpha=1.0)\n",
       "        )\n",
       "        (hidden_layer_2): Linear(in_features=64, out_features=64, bias=True)\n",
       "        (gate_layer): Gate(\n",
       "          (dense_layer): Linear(in_features=64, out_features=64, bias=True)\n",
       "          (gated_layer): Linear(in_features=64, out_features=64, bias=True)\n",
       "        )\n",
       "        (add_and_norm_layer): AddAndNorm(\n",
       "          (norm_layer): LayerNorm((64,), eps=1e-05, elementwise_affine=True)\n",
       "        )\n",
       "      )\n",
       "    )\n",
       "  )\n",
       "  (encoder): RecurrentLayer(\n",
       "    (layer): TKAN(\n",
       "      (tkan_cells): ModuleList(\n",
       "        (0): TKANCell(\n",
       "          (tkan_sub_layers): ModuleList(\n",
       "            (0): KANLinear(\n",
       "              (linear): Linear(in_features=64, out_features=64, bias=True)\n",
       "              (layer_norm): LayerNorm((64,), eps=1e-05, elementwise_affine=True)\n",
       "            )\n",
       "          )\n",
       "        )\n",
       "      )\n",
       "    )\n",
       "  )\n",
       "  (decoder): RecurrentLayer(\n",
       "    (layer): TKAN(\n",
       "      (tkan_cells): ModuleList(\n",
       "        (0): TKANCell(\n",
       "          (tkan_sub_layers): ModuleList(\n",
       "            (0): KANLinear(\n",
       "              (linear): Linear(in_features=64, out_features=64, bias=True)\n",
       "              (layer_norm): LayerNorm((64,), eps=1e-05, elementwise_affine=True)\n",
       "            )\n",
       "          )\n",
       "        )\n",
       "      )\n",
       "    )\n",
       "  )\n",
       "  (gate): Gate(\n",
       "    (dense_layer): Linear(in_features=64, out_features=64, bias=True)\n",
       "    (gated_layer): Linear(in_features=64, out_features=64, bias=True)\n",
       "  )\n",
       "  (add_and_norm): AddAndNorm(\n",
       "    (norm_layer): LayerNorm((64,), eps=1e-05, elementwise_affine=True)\n",
       "  )\n",
       "  (grn): GRN(\n",
       "    (skip_layer): Linear(in_features=64, out_features=64, bias=True)\n",
       "    (hidden_layer_1): Sequential(\n",
       "      (0): Linear(in_features=64, out_features=64, bias=True)\n",
       "      (1): ELU(alpha=1.0)\n",
       "    )\n",
       "    (hidden_layer_2): Linear(in_features=64, out_features=64, bias=True)\n",
       "    (gate_layer): Gate(\n",
       "      (dense_layer): Linear(in_features=64, out_features=64, bias=True)\n",
       "      (gated_layer): Linear(in_features=64, out_features=64, bias=True)\n",
       "    )\n",
       "    (add_and_norm_layer): AddAndNorm(\n",
       "      (norm_layer): LayerNorm((64,), eps=1e-05, elementwise_affine=True)\n",
       "    )\n",
       "  )\n",
       "  (attention): MultiheadAttention(\n",
       "    (out_proj): NonDynamicallyQuantizableLinear(in_features=64, out_features=64, bias=True)\n",
       "  )\n",
       "  (final_dense): Linear(in_features=1728000, out_features=30, bias=True)\n",
       ")"
      ]
     },
     "execution_count": 8,
     "metadata": {},
     "output_type": "execute_result"
    }
   ],
   "source": [
    "model = TKAT(\n",
    "            sequence_length=sequence_length, \n",
    "            num_unknown_features=19, \n",
    "            num_known_features=2, \n",
    "            num_embedding=num_embedding, \n",
    "            num_hidden=num_hidden, \n",
    "            num_heads=num_heads, \n",
    "            n_ahead=n_ahead, \n",
    "            use_tkan=True\n",
    "        )\n",
    "model"
   ]
  },
  {
   "cell_type": "code",
   "execution_count": 9,
   "id": "f794c7bb-e89e-469b-85b3-d042dac40bdd",
   "metadata": {},
   "outputs": [
    {
     "name": "stdout",
     "output_type": "stream",
     "text": [
      "Total trainable parameters: 52278456\n"
     ]
    }
   ],
   "source": [
    "total_params = sum(p.numel() for p in model.parameters() if p.requires_grad)\n",
    "print(f\"Total trainable parameters: {total_params}\")\n",
    "\n",
    "criterion = nn.CrossEntropyLoss()\n",
    "\n",
    "# LBFGS is really slow\n",
    "# optimizer = optim.LBFGS(model.parameters(), lr=0.01)\n",
    "# Adam works with very low lr\n",
    "optimizer = optim.Adam(model.parameters(), lr=0.0002)\n",
    "device = torch.device('cuda' if torch.cuda.is_available() else 'cpu')"
   ]
  },
  {
   "cell_type": "code",
   "execution_count": 10,
   "id": "d0c065c2-efb9-405d-890a-a27bf28bddf2",
   "metadata": {},
   "outputs": [],
   "source": [
    "\n",
    "def train(model, train_loader, criterion, optimizer, device):\n",
    "    model.train()\n",
    "    total_loss = 0\n",
    "    correct = 0\n",
    "    \n",
    "    for idx, (data, target) in enumerate(train_loader):\n",
    "        data, target = data.to(device), target.to(device)\n",
    "        print(f\"data: {data.shape}\")\n",
    "\n",
    "        if isinstance(optimizer, optim.LBFGS):\n",
    "            def closure():\n",
    "                optimizer.zero_grad()\n",
    "                output = model(data)\n",
    "                loss = criterion(output, target)\n",
    "                loss.backward()\n",
    "                return loss\n",
    "            loss = optimizer.step(closure)\n",
    "        else:\n",
    "            optimizer.zero_grad()\n",
    "            output = model(data)\n",
    "            loss = criterion(output, target)\n",
    "            loss.backward()\n",
    "            optimizer.step()\n",
    "            loss = loss.item()\n",
    "            \n",
    "        total_loss += loss\n",
    "        \n",
    "    return total_loss / len(train_loader)\n",
    "\n",
    "def validate(model, test_loader, criterion, device):\n",
    "    model.eval()\n",
    "    total_loself.hidden_sizess = 0\n",
    "    correct = 0\n",
    "    with torch.no_grad():\n",
    "        for data, target in test_loader:\n",
    "            data, target = data.to(device), target.to(device)\n",
    "            print(f\"data in: {data.shape}\")\n",
    "            output = model(data)\n",
    "            loss = criterion(output, target)\n",
    "            total_loss += loss.item()\n",
    "            pred = output.argmax(dim=1, keepdim=True)\n",
    "            correct += pred.eq(target.view_as(pred)).sum().item()\n",
    "\n",
    "    return total_loss / len(test_loader), correct / len(test_loader.dataset)    "
   ]
  },
  {
   "cell_type": "code",
   "execution_count": 11,
   "id": "3e97f8b0-ae64-45db-b984-5f764e066d8c",
   "metadata": {
    "scrolled": true
   },
   "outputs": [
    {
     "name": "stdout",
     "output_type": "stream",
     "text": [
      "data: torch.Size([16, 180, 21])\n",
      "[TKAT] Input shape: torch.Size([16, 180, 21])\n",
      "[EmbeddingLayer] Output shape: torch.Size([16, 180, 1, 21])\n",
      "[TKAT] past_features shape: torch.Size([16, 150, 1, 21])\n",
      "[TKAT] future_features shape: torch.Size([16, 30, 1, 2])\n",
      "[VariableSelectionNetwork] [past_features]\tinput shape: torch.Size([16, 150, 1, 21])\n",
      "[VariableSelectionNetwork] [past_features-\tflatten shape: torch.Size([16, 150, 21])\n",
      "[VariableSelectionNetwork] [past_features-\tsparse_weights shape: torch.Size([16, 150, 1, 21])\n",
      "[VariableSelectionNetwork] [past_features]\tlen emb list: 21\n",
      "[VariableSelectionNetwork] [past_features]\ttransformed_embedding shape: torch.Size([16, 150, 64, 21])\n",
      "[VariableSelectionNetwork] [past_features]\toutput shape: torch.Size([16, 150, 64])\n",
      "[VariableSelectionNetwork] [future_features]\tinput shape: torch.Size([16, 30, 1, 2])\n",
      "[VariableSelectionNetwork] [future_features-\tflatten shape: torch.Size([16, 30, 2])\n",
      "[VariableSelectionNetwork] [future_features-\tsparse_weights shape: torch.Size([16, 30, 1, 2])\n",
      "[VariableSelectionNetwork] [future_features]\tlen emb list: 2\n",
      "[VariableSelectionNetwork] [future_features]\ttransformed_embedding shape: torch.Size([16, 30, 64, 2])\n",
      "[VariableSelectionNetwork] [future_features]\toutput shape: torch.Size([16, 30, 64])\n",
      "[TKAT] variable_selection_past shape: torch.Size([16, 150, 64])\n",
      "[TKAT] variable_selection_future shape: torch.Size([16, 30, 64])\n",
      "[RecurrentLayer] [encoder]\t input shape: torch.Size([16, 150, 64])\n",
      "[TKAN]\t added output_layer! 1\n",
      "[TKAN]\t added output_layer! 2\n",
      "[TKAN]\t added output_layer! 3\n",
      "[TKAN]\t added output_layer! 4\n",
      "[TKAN]\t added output_layer! 5\n",
      "[TKAN]\t added output_layer! 6\n",
      "[TKAN]\t added output_layer! 7\n",
      "[TKAN]\t added output_layer! 8\n",
      "[TKAN]\t added output_layer! 9\n",
      "[TKAN]\t added output_layer! 10\n",
      "[TKAN]\t added output_layer! 11\n",
      "[TKAN]\t added output_layer! 12\n",
      "[TKAN]\t added output_layer! 13\n",
      "[TKAN]\t added output_layer! 14\n",
      "[TKAN]\t added output_layer! 15\n",
      "[TKAN]\t added output_layer! 16\n",
      "[TKAN] added last state! last_states: 1\n",
      "[TKAN]\treturning output! torch.Size([1, 150, 1024]), last_states: 1\n",
      "[TKAT] encode_out shape: torch.Size([1, 150, 1024])\n",
      "[TKAT] encode_states shape: 2, state: [torch.Size([150, 64]), torch.Size([150, 64]), torch.Size([150, 64])]\n",
      "[RecurrentLayer] [decoder]\t input shape: torch.Size([16, 30, 64])\n",
      "[RecurrentLayer] [decoder]\t initial_state 0 shape: [torch.Size([150, 64]), torch.Size([150, 64]), torch.Size([150, 64])]\n",
      "[RecurrentLayer] [decoder]\t initial_state 1 shape: None\n"
     ]
    },
    {
     "ename": "RuntimeError",
     "evalue": "The size of tensor a (30) must match the size of tensor b (150) at non-singleton dimension 0",
     "output_type": "error",
     "traceback": [
      "\u001b[0;31m---------------------------------------------------------------------------\u001b[0m",
      "\u001b[0;31mRuntimeError\u001b[0m                              Traceback (most recent call last)",
      "Cell \u001b[0;32mIn[11], line 6\u001b[0m\n\u001b[1;32m      4\u001b[0m epochs \u001b[38;5;241m=\u001b[39m \u001b[38;5;241m30\u001b[39m\n\u001b[1;32m      5\u001b[0m \u001b[38;5;28;01mfor\u001b[39;00m epoch \u001b[38;5;129;01min\u001b[39;00m \u001b[38;5;28mrange\u001b[39m(epochs):\n\u001b[0;32m----> 6\u001b[0m     train_loss \u001b[38;5;241m=\u001b[39m \u001b[43mtrain\u001b[49m\u001b[43m(\u001b[49m\u001b[43mmodel\u001b[49m\u001b[43m,\u001b[49m\u001b[43m \u001b[49m\u001b[43mtrain_loader\u001b[49m\u001b[43m,\u001b[49m\u001b[43m \u001b[49m\u001b[43mcriterion\u001b[49m\u001b[43m,\u001b[49m\u001b[43m \u001b[49m\u001b[43moptimizer\u001b[49m\u001b[43m,\u001b[49m\u001b[43m \u001b[49m\u001b[43mdevice\u001b[49m\u001b[43m)\u001b[49m\n\u001b[1;32m      7\u001b[0m     test_loss, test_accuracy \u001b[38;5;241m=\u001b[39m validate(model, test_loader, criterion, device)\n\u001b[1;32m      9\u001b[0m     train_losses\u001b[38;5;241m.\u001b[39mappend(train_loss)\n",
      "Cell \u001b[0;32mIn[10], line 20\u001b[0m, in \u001b[0;36mtrain\u001b[0;34m(model, train_loader, criterion, optimizer, device)\u001b[0m\n\u001b[1;32m     18\u001b[0m \u001b[38;5;28;01melse\u001b[39;00m:\n\u001b[1;32m     19\u001b[0m     optimizer\u001b[38;5;241m.\u001b[39mzero_grad()\n\u001b[0;32m---> 20\u001b[0m     output \u001b[38;5;241m=\u001b[39m \u001b[43mmodel\u001b[49m\u001b[43m(\u001b[49m\u001b[43mdata\u001b[49m\u001b[43m)\u001b[49m\n\u001b[1;32m     21\u001b[0m     loss \u001b[38;5;241m=\u001b[39m criterion(output, target)\n\u001b[1;32m     22\u001b[0m     loss\u001b[38;5;241m.\u001b[39mbackward()\n",
      "File \u001b[0;32m~/.cache/pypoetry/virtualenvs/chainanal-oSZkYA31-py3.10/lib/python3.10/site-packages/torch/nn/modules/module.py:1511\u001b[0m, in \u001b[0;36mModule._wrapped_call_impl\u001b[0;34m(self, *args, **kwargs)\u001b[0m\n\u001b[1;32m   1509\u001b[0m     \u001b[38;5;28;01mreturn\u001b[39;00m \u001b[38;5;28mself\u001b[39m\u001b[38;5;241m.\u001b[39m_compiled_call_impl(\u001b[38;5;241m*\u001b[39margs, \u001b[38;5;241m*\u001b[39m\u001b[38;5;241m*\u001b[39mkwargs)  \u001b[38;5;66;03m# type: ignore[misc]\u001b[39;00m\n\u001b[1;32m   1510\u001b[0m \u001b[38;5;28;01melse\u001b[39;00m:\n\u001b[0;32m-> 1511\u001b[0m     \u001b[38;5;28;01mreturn\u001b[39;00m \u001b[38;5;28;43mself\u001b[39;49m\u001b[38;5;241;43m.\u001b[39;49m\u001b[43m_call_impl\u001b[49m\u001b[43m(\u001b[49m\u001b[38;5;241;43m*\u001b[39;49m\u001b[43margs\u001b[49m\u001b[43m,\u001b[49m\u001b[43m \u001b[49m\u001b[38;5;241;43m*\u001b[39;49m\u001b[38;5;241;43m*\u001b[39;49m\u001b[43mkwargs\u001b[49m\u001b[43m)\u001b[49m\n",
      "File \u001b[0;32m~/.cache/pypoetry/virtualenvs/chainanal-oSZkYA31-py3.10/lib/python3.10/site-packages/torch/nn/modules/module.py:1520\u001b[0m, in \u001b[0;36mModule._call_impl\u001b[0;34m(self, *args, **kwargs)\u001b[0m\n\u001b[1;32m   1515\u001b[0m \u001b[38;5;66;03m# If we don't have any hooks, we want to skip the rest of the logic in\u001b[39;00m\n\u001b[1;32m   1516\u001b[0m \u001b[38;5;66;03m# this function, and just call forward.\u001b[39;00m\n\u001b[1;32m   1517\u001b[0m \u001b[38;5;28;01mif\u001b[39;00m \u001b[38;5;129;01mnot\u001b[39;00m (\u001b[38;5;28mself\u001b[39m\u001b[38;5;241m.\u001b[39m_backward_hooks \u001b[38;5;129;01mor\u001b[39;00m \u001b[38;5;28mself\u001b[39m\u001b[38;5;241m.\u001b[39m_backward_pre_hooks \u001b[38;5;129;01mor\u001b[39;00m \u001b[38;5;28mself\u001b[39m\u001b[38;5;241m.\u001b[39m_forward_hooks \u001b[38;5;129;01mor\u001b[39;00m \u001b[38;5;28mself\u001b[39m\u001b[38;5;241m.\u001b[39m_forward_pre_hooks\n\u001b[1;32m   1518\u001b[0m         \u001b[38;5;129;01mor\u001b[39;00m _global_backward_pre_hooks \u001b[38;5;129;01mor\u001b[39;00m _global_backward_hooks\n\u001b[1;32m   1519\u001b[0m         \u001b[38;5;129;01mor\u001b[39;00m _global_forward_hooks \u001b[38;5;129;01mor\u001b[39;00m _global_forward_pre_hooks):\n\u001b[0;32m-> 1520\u001b[0m     \u001b[38;5;28;01mreturn\u001b[39;00m \u001b[43mforward_call\u001b[49m\u001b[43m(\u001b[49m\u001b[38;5;241;43m*\u001b[39;49m\u001b[43margs\u001b[49m\u001b[43m,\u001b[49m\u001b[43m \u001b[49m\u001b[38;5;241;43m*\u001b[39;49m\u001b[38;5;241;43m*\u001b[39;49m\u001b[43mkwargs\u001b[49m\u001b[43m)\u001b[49m\n\u001b[1;32m   1522\u001b[0m \u001b[38;5;28;01mtry\u001b[39;00m:\n\u001b[1;32m   1523\u001b[0m     result \u001b[38;5;241m=\u001b[39m \u001b[38;5;28;01mNone\u001b[39;00m\n",
      "File \u001b[0;32m~/Development/notebooks/torchkan/torchkan/models/tkat.py:249\u001b[0m, in \u001b[0;36mTKAT.forward\u001b[0;34m(self, x)\u001b[0m\n\u001b[1;32m    247\u001b[0m \u001b[38;5;28mprint\u001b[39m(\u001b[38;5;124mf\u001b[39m\u001b[38;5;124m\"\u001b[39m\u001b[38;5;124m[TKAT] encode_out shape: \u001b[39m\u001b[38;5;132;01m{\u001b[39;00mencode_out\u001b[38;5;241m.\u001b[39mshape\u001b[38;5;132;01m}\u001b[39;00m\u001b[38;5;124m\"\u001b[39m)\n\u001b[1;32m    248\u001b[0m \u001b[38;5;28mprint\u001b[39m(\u001b[38;5;124mf\u001b[39m\u001b[38;5;124m\"\u001b[39m\u001b[38;5;124m[TKAT] encode_states shape: \u001b[39m\u001b[38;5;132;01m{\u001b[39;00m\u001b[38;5;28mlen\u001b[39m(encode_states)\u001b[38;5;132;01m}\u001b[39;00m\u001b[38;5;124m, state: \u001b[39m\u001b[38;5;132;01m{\u001b[39;00m[s\u001b[38;5;241m.\u001b[39mshape\u001b[38;5;250m \u001b[39m\u001b[38;5;28;01mfor\u001b[39;00m\u001b[38;5;250m \u001b[39ms\u001b[38;5;250m \u001b[39m\u001b[38;5;129;01min\u001b[39;00m\u001b[38;5;250m \u001b[39mencode_states[\u001b[38;5;241m0\u001b[39m]]\u001b[38;5;132;01m}\u001b[39;00m\u001b[38;5;124m\"\u001b[39m)\n\u001b[0;32m--> 249\u001b[0m decode_out \u001b[38;5;241m=\u001b[39m \u001b[38;5;28;43mself\u001b[39;49m\u001b[38;5;241;43m.\u001b[39;49m\u001b[43mdecoder\u001b[49m\u001b[43m(\u001b[49m\u001b[43mvariable_selection_future\u001b[49m\u001b[43m,\u001b[49m\u001b[43m \u001b[49m\u001b[43minitial_state\u001b[49m\u001b[38;5;241;43m=\u001b[39;49m\u001b[43mencode_states\u001b[49m\u001b[43m)\u001b[49m\n\u001b[1;32m    251\u001b[0m history \u001b[38;5;241m=\u001b[39m torch\u001b[38;5;241m.\u001b[39mcat([encode_out, decode_out], dim\u001b[38;5;241m=\u001b[39m\u001b[38;5;241m1\u001b[39m)\n\u001b[1;32m    253\u001b[0m selected \u001b[38;5;241m=\u001b[39m torch\u001b[38;5;241m.\u001b[39mcat([variable_selection_past, variable_selection_future], dim\u001b[38;5;241m=\u001b[39m\u001b[38;5;241m1\u001b[39m)\n",
      "File \u001b[0;32m~/.cache/pypoetry/virtualenvs/chainanal-oSZkYA31-py3.10/lib/python3.10/site-packages/torch/nn/modules/module.py:1511\u001b[0m, in \u001b[0;36mModule._wrapped_call_impl\u001b[0;34m(self, *args, **kwargs)\u001b[0m\n\u001b[1;32m   1509\u001b[0m     \u001b[38;5;28;01mreturn\u001b[39;00m \u001b[38;5;28mself\u001b[39m\u001b[38;5;241m.\u001b[39m_compiled_call_impl(\u001b[38;5;241m*\u001b[39margs, \u001b[38;5;241m*\u001b[39m\u001b[38;5;241m*\u001b[39mkwargs)  \u001b[38;5;66;03m# type: ignore[misc]\u001b[39;00m\n\u001b[1;32m   1510\u001b[0m \u001b[38;5;28;01melse\u001b[39;00m:\n\u001b[0;32m-> 1511\u001b[0m     \u001b[38;5;28;01mreturn\u001b[39;00m \u001b[38;5;28;43mself\u001b[39;49m\u001b[38;5;241;43m.\u001b[39;49m\u001b[43m_call_impl\u001b[49m\u001b[43m(\u001b[49m\u001b[38;5;241;43m*\u001b[39;49m\u001b[43margs\u001b[49m\u001b[43m,\u001b[49m\u001b[43m \u001b[49m\u001b[38;5;241;43m*\u001b[39;49m\u001b[38;5;241;43m*\u001b[39;49m\u001b[43mkwargs\u001b[49m\u001b[43m)\u001b[49m\n",
      "File \u001b[0;32m~/.cache/pypoetry/virtualenvs/chainanal-oSZkYA31-py3.10/lib/python3.10/site-packages/torch/nn/modules/module.py:1520\u001b[0m, in \u001b[0;36mModule._call_impl\u001b[0;34m(self, *args, **kwargs)\u001b[0m\n\u001b[1;32m   1515\u001b[0m \u001b[38;5;66;03m# If we don't have any hooks, we want to skip the rest of the logic in\u001b[39;00m\n\u001b[1;32m   1516\u001b[0m \u001b[38;5;66;03m# this function, and just call forward.\u001b[39;00m\n\u001b[1;32m   1517\u001b[0m \u001b[38;5;28;01mif\u001b[39;00m \u001b[38;5;129;01mnot\u001b[39;00m (\u001b[38;5;28mself\u001b[39m\u001b[38;5;241m.\u001b[39m_backward_hooks \u001b[38;5;129;01mor\u001b[39;00m \u001b[38;5;28mself\u001b[39m\u001b[38;5;241m.\u001b[39m_backward_pre_hooks \u001b[38;5;129;01mor\u001b[39;00m \u001b[38;5;28mself\u001b[39m\u001b[38;5;241m.\u001b[39m_forward_hooks \u001b[38;5;129;01mor\u001b[39;00m \u001b[38;5;28mself\u001b[39m\u001b[38;5;241m.\u001b[39m_forward_pre_hooks\n\u001b[1;32m   1518\u001b[0m         \u001b[38;5;129;01mor\u001b[39;00m _global_backward_pre_hooks \u001b[38;5;129;01mor\u001b[39;00m _global_backward_hooks\n\u001b[1;32m   1519\u001b[0m         \u001b[38;5;129;01mor\u001b[39;00m _global_forward_hooks \u001b[38;5;129;01mor\u001b[39;00m _global_forward_pre_hooks):\n\u001b[0;32m-> 1520\u001b[0m     \u001b[38;5;28;01mreturn\u001b[39;00m \u001b[43mforward_call\u001b[49m\u001b[43m(\u001b[49m\u001b[38;5;241;43m*\u001b[39;49m\u001b[43margs\u001b[49m\u001b[43m,\u001b[49m\u001b[43m \u001b[49m\u001b[38;5;241;43m*\u001b[39;49m\u001b[38;5;241;43m*\u001b[39;49m\u001b[43mkwargs\u001b[49m\u001b[43m)\u001b[49m\n\u001b[1;32m   1522\u001b[0m \u001b[38;5;28;01mtry\u001b[39;00m:\n\u001b[1;32m   1523\u001b[0m     result \u001b[38;5;241m=\u001b[39m \u001b[38;5;28;01mNone\u001b[39;00m\n",
      "File \u001b[0;32m~/Development/notebooks/torchkan/torchkan/models/tkat.py:133\u001b[0m, in \u001b[0;36mRecurrentLayer.forward\u001b[0;34m(self, x, initial_state)\u001b[0m\n\u001b[1;32m    131\u001b[0m     \u001b[38;5;28;01mif\u001b[39;00m \u001b[38;5;129;01mnot\u001b[39;00m \u001b[38;5;28misinstance\u001b[39m(initial_state, (\u001b[38;5;28mtuple\u001b[39m, \u001b[38;5;28mlist\u001b[39m)):\n\u001b[1;32m    132\u001b[0m         \u001b[38;5;28mprint\u001b[39m(\u001b[38;5;124mf\u001b[39m\u001b[38;5;124m\"\u001b[39m\u001b[38;5;124m[RecurrentLayer] [\u001b[39m\u001b[38;5;132;01m{\u001b[39;00m\u001b[38;5;28mself\u001b[39m\u001b[38;5;241m.\u001b[39mname\u001b[38;5;132;01m}\u001b[39;00m\u001b[38;5;124m]\u001b[39m\u001b[38;5;130;01m\\t\u001b[39;00m\u001b[38;5;124m initial_state shape: \u001b[39m\u001b[38;5;132;01m{\u001b[39;00m[s\u001b[38;5;241m.\u001b[39mshape\u001b[38;5;250m \u001b[39m\u001b[38;5;28;01mfor\u001b[39;00m\u001b[38;5;250m \u001b[39ms\u001b[38;5;250m \u001b[39m\u001b[38;5;129;01min\u001b[39;00m\u001b[38;5;250m \u001b[39minitial_state]\u001b[38;5;132;01m}\u001b[39;00m\u001b[38;5;124m\"\u001b[39m)\n\u001b[0;32m--> 133\u001b[0m output, hidden \u001b[38;5;241m=\u001b[39m \u001b[38;5;28;43mself\u001b[39;49m\u001b[38;5;241;43m.\u001b[39;49m\u001b[43mlayer\u001b[49m\u001b[43m(\u001b[49m\u001b[43mx\u001b[49m\u001b[43m,\u001b[49m\u001b[43m \u001b[49m\u001b[43minitial_state\u001b[49m\u001b[43m)\u001b[49m\n\u001b[1;32m    134\u001b[0m \u001b[38;5;28;01mif\u001b[39;00m \u001b[38;5;28misinstance\u001b[39m(hidden, (\u001b[38;5;28mtuple\u001b[39m, \u001b[38;5;28mlist\u001b[39m)):\n\u001b[1;32m    135\u001b[0m     \u001b[38;5;28;01mif\u001b[39;00m \u001b[38;5;28mlen\u001b[39m(hidden) \u001b[38;5;241m==\u001b[39m \u001b[38;5;241m2\u001b[39m:\n",
      "File \u001b[0;32m~/.cache/pypoetry/virtualenvs/chainanal-oSZkYA31-py3.10/lib/python3.10/site-packages/torch/nn/modules/module.py:1511\u001b[0m, in \u001b[0;36mModule._wrapped_call_impl\u001b[0;34m(self, *args, **kwargs)\u001b[0m\n\u001b[1;32m   1509\u001b[0m     \u001b[38;5;28;01mreturn\u001b[39;00m \u001b[38;5;28mself\u001b[39m\u001b[38;5;241m.\u001b[39m_compiled_call_impl(\u001b[38;5;241m*\u001b[39margs, \u001b[38;5;241m*\u001b[39m\u001b[38;5;241m*\u001b[39mkwargs)  \u001b[38;5;66;03m# type: ignore[misc]\u001b[39;00m\n\u001b[1;32m   1510\u001b[0m \u001b[38;5;28;01melse\u001b[39;00m:\n\u001b[0;32m-> 1511\u001b[0m     \u001b[38;5;28;01mreturn\u001b[39;00m \u001b[38;5;28;43mself\u001b[39;49m\u001b[38;5;241;43m.\u001b[39;49m\u001b[43m_call_impl\u001b[49m\u001b[43m(\u001b[49m\u001b[38;5;241;43m*\u001b[39;49m\u001b[43margs\u001b[49m\u001b[43m,\u001b[49m\u001b[43m \u001b[49m\u001b[38;5;241;43m*\u001b[39;49m\u001b[38;5;241;43m*\u001b[39;49m\u001b[43mkwargs\u001b[49m\u001b[43m)\u001b[49m\n",
      "File \u001b[0;32m~/.cache/pypoetry/virtualenvs/chainanal-oSZkYA31-py3.10/lib/python3.10/site-packages/torch/nn/modules/module.py:1520\u001b[0m, in \u001b[0;36mModule._call_impl\u001b[0;34m(self, *args, **kwargs)\u001b[0m\n\u001b[1;32m   1515\u001b[0m \u001b[38;5;66;03m# If we don't have any hooks, we want to skip the rest of the logic in\u001b[39;00m\n\u001b[1;32m   1516\u001b[0m \u001b[38;5;66;03m# this function, and just call forward.\u001b[39;00m\n\u001b[1;32m   1517\u001b[0m \u001b[38;5;28;01mif\u001b[39;00m \u001b[38;5;129;01mnot\u001b[39;00m (\u001b[38;5;28mself\u001b[39m\u001b[38;5;241m.\u001b[39m_backward_hooks \u001b[38;5;129;01mor\u001b[39;00m \u001b[38;5;28mself\u001b[39m\u001b[38;5;241m.\u001b[39m_backward_pre_hooks \u001b[38;5;129;01mor\u001b[39;00m \u001b[38;5;28mself\u001b[39m\u001b[38;5;241m.\u001b[39m_forward_hooks \u001b[38;5;129;01mor\u001b[39;00m \u001b[38;5;28mself\u001b[39m\u001b[38;5;241m.\u001b[39m_forward_pre_hooks\n\u001b[1;32m   1518\u001b[0m         \u001b[38;5;129;01mor\u001b[39;00m _global_backward_pre_hooks \u001b[38;5;129;01mor\u001b[39;00m _global_backward_hooks\n\u001b[1;32m   1519\u001b[0m         \u001b[38;5;129;01mor\u001b[39;00m _global_forward_hooks \u001b[38;5;129;01mor\u001b[39;00m _global_forward_pre_hooks):\n\u001b[0;32m-> 1520\u001b[0m     \u001b[38;5;28;01mreturn\u001b[39;00m \u001b[43mforward_call\u001b[49m\u001b[43m(\u001b[49m\u001b[38;5;241;43m*\u001b[39;49m\u001b[43margs\u001b[49m\u001b[43m,\u001b[49m\u001b[43m \u001b[49m\u001b[38;5;241;43m*\u001b[39;49m\u001b[38;5;241;43m*\u001b[39;49m\u001b[43mkwargs\u001b[49m\u001b[43m)\u001b[49m\n\u001b[1;32m   1522\u001b[0m \u001b[38;5;28;01mtry\u001b[39;00m:\n\u001b[1;32m   1523\u001b[0m     result \u001b[38;5;241m=\u001b[39m \u001b[38;5;28;01mNone\u001b[39;00m\n",
      "File \u001b[0;32m~/Development/notebooks/torchkan/torchkan/models/tkan.py:325\u001b[0m, in \u001b[0;36mTKAN.forward\u001b[0;34m(self, x, initial_states)\u001b[0m\n\u001b[1;32m    322\u001b[0m steps \u001b[38;5;241m=\u001b[39m \u001b[38;5;28mreversed\u001b[39m(\u001b[38;5;28mrange\u001b[39m(x\u001b[38;5;241m.\u001b[39msize(\u001b[38;5;241m0\u001b[39m))) \u001b[38;5;28;01mif\u001b[39;00m direction \u001b[38;5;241m==\u001b[39m \u001b[38;5;241m1\u001b[39m \u001b[38;5;28;01melse\u001b[39;00m \u001b[38;5;28mrange\u001b[39m(x\u001b[38;5;241m.\u001b[39msize(\u001b[38;5;241m0\u001b[39m))\n\u001b[1;32m    324\u001b[0m \u001b[38;5;28;01mfor\u001b[39;00m t \u001b[38;5;129;01min\u001b[39;00m steps:\n\u001b[0;32m--> 325\u001b[0m     h, state \u001b[38;5;241m=\u001b[39m \u001b[43mcell\u001b[49m\u001b[43m(\u001b[49m\u001b[43mx\u001b[49m\u001b[43m[\u001b[49m\u001b[43mt\u001b[49m\u001b[43m]\u001b[49m\u001b[43m,\u001b[49m\u001b[43m \u001b[49m\u001b[43mstate\u001b[49m\u001b[43m)\u001b[49m\n\u001b[1;32m    326\u001b[0m     output_layer\u001b[38;5;241m.\u001b[39mappend(h\u001b[38;5;241m.\u001b[39munsqueeze(\u001b[38;5;241m0\u001b[39m))\n\u001b[1;32m    327\u001b[0m     \u001b[38;5;28mprint\u001b[39m(\u001b[38;5;124mf\u001b[39m\u001b[38;5;124m\"\u001b[39m\u001b[38;5;124m[TKAN]\u001b[39m\u001b[38;5;130;01m\\t\u001b[39;00m\u001b[38;5;124m added output_layer! \u001b[39m\u001b[38;5;132;01m{\u001b[39;00m\u001b[38;5;28mlen\u001b[39m(output_layer)\u001b[38;5;132;01m}\u001b[39;00m\u001b[38;5;124m\"\u001b[39m)\n",
      "File \u001b[0;32m~/.cache/pypoetry/virtualenvs/chainanal-oSZkYA31-py3.10/lib/python3.10/site-packages/torch/nn/modules/module.py:1511\u001b[0m, in \u001b[0;36mModule._wrapped_call_impl\u001b[0;34m(self, *args, **kwargs)\u001b[0m\n\u001b[1;32m   1509\u001b[0m     \u001b[38;5;28;01mreturn\u001b[39;00m \u001b[38;5;28mself\u001b[39m\u001b[38;5;241m.\u001b[39m_compiled_call_impl(\u001b[38;5;241m*\u001b[39margs, \u001b[38;5;241m*\u001b[39m\u001b[38;5;241m*\u001b[39mkwargs)  \u001b[38;5;66;03m# type: ignore[misc]\u001b[39;00m\n\u001b[1;32m   1510\u001b[0m \u001b[38;5;28;01melse\u001b[39;00m:\n\u001b[0;32m-> 1511\u001b[0m     \u001b[38;5;28;01mreturn\u001b[39;00m \u001b[38;5;28;43mself\u001b[39;49m\u001b[38;5;241;43m.\u001b[39;49m\u001b[43m_call_impl\u001b[49m\u001b[43m(\u001b[49m\u001b[38;5;241;43m*\u001b[39;49m\u001b[43margs\u001b[49m\u001b[43m,\u001b[49m\u001b[43m \u001b[49m\u001b[38;5;241;43m*\u001b[39;49m\u001b[38;5;241;43m*\u001b[39;49m\u001b[43mkwargs\u001b[49m\u001b[43m)\u001b[49m\n",
      "File \u001b[0;32m~/.cache/pypoetry/virtualenvs/chainanal-oSZkYA31-py3.10/lib/python3.10/site-packages/torch/nn/modules/module.py:1520\u001b[0m, in \u001b[0;36mModule._call_impl\u001b[0;34m(self, *args, **kwargs)\u001b[0m\n\u001b[1;32m   1515\u001b[0m \u001b[38;5;66;03m# If we don't have any hooks, we want to skip the rest of the logic in\u001b[39;00m\n\u001b[1;32m   1516\u001b[0m \u001b[38;5;66;03m# this function, and just call forward.\u001b[39;00m\n\u001b[1;32m   1517\u001b[0m \u001b[38;5;28;01mif\u001b[39;00m \u001b[38;5;129;01mnot\u001b[39;00m (\u001b[38;5;28mself\u001b[39m\u001b[38;5;241m.\u001b[39m_backward_hooks \u001b[38;5;129;01mor\u001b[39;00m \u001b[38;5;28mself\u001b[39m\u001b[38;5;241m.\u001b[39m_backward_pre_hooks \u001b[38;5;129;01mor\u001b[39;00m \u001b[38;5;28mself\u001b[39m\u001b[38;5;241m.\u001b[39m_forward_hooks \u001b[38;5;129;01mor\u001b[39;00m \u001b[38;5;28mself\u001b[39m\u001b[38;5;241m.\u001b[39m_forward_pre_hooks\n\u001b[1;32m   1518\u001b[0m         \u001b[38;5;129;01mor\u001b[39;00m _global_backward_pre_hooks \u001b[38;5;129;01mor\u001b[39;00m _global_backward_hooks\n\u001b[1;32m   1519\u001b[0m         \u001b[38;5;129;01mor\u001b[39;00m _global_forward_hooks \u001b[38;5;129;01mor\u001b[39;00m _global_forward_pre_hooks):\n\u001b[0;32m-> 1520\u001b[0m     \u001b[38;5;28;01mreturn\u001b[39;00m \u001b[43mforward_call\u001b[49m\u001b[43m(\u001b[49m\u001b[38;5;241;43m*\u001b[39;49m\u001b[43margs\u001b[49m\u001b[43m,\u001b[49m\u001b[43m \u001b[49m\u001b[38;5;241;43m*\u001b[39;49m\u001b[38;5;241;43m*\u001b[39;49m\u001b[43mkwargs\u001b[49m\u001b[43m)\u001b[49m\n\u001b[1;32m   1522\u001b[0m \u001b[38;5;28;01mtry\u001b[39;00m:\n\u001b[1;32m   1523\u001b[0m     result \u001b[38;5;241m=\u001b[39m \u001b[38;5;28;01mNone\u001b[39;00m\n",
      "File \u001b[0;32m~/Development/notebooks/torchkan/torchkan/models/tkan.py:222\u001b[0m, in \u001b[0;36mTKANCell.forward\u001b[0;34m(self, x, states)\u001b[0m\n\u001b[1;32m    219\u001b[0m         h_tm1 \u001b[38;5;241m*\u001b[39m\u001b[38;5;241m=\u001b[39m rec_dp_mask\n\u001b[1;32m    221\u001b[0m \u001b[38;5;28;01mif\u001b[39;00m \u001b[38;5;28mself\u001b[39m\u001b[38;5;241m.\u001b[39muse_bias:\n\u001b[0;32m--> 222\u001b[0m     gates \u001b[38;5;241m=\u001b[39m \u001b[43mtorch\u001b[49m\u001b[38;5;241;43m.\u001b[39;49m\u001b[43mmatmul\u001b[49m\u001b[43m(\u001b[49m\u001b[43mx\u001b[49m\u001b[43m,\u001b[49m\u001b[43m \u001b[49m\u001b[38;5;28;43mself\u001b[39;49m\u001b[38;5;241;43m.\u001b[39;49m\u001b[43mW_ih\u001b[49m\u001b[43m)\u001b[49m\u001b[43m \u001b[49m\u001b[38;5;241;43m+\u001b[39;49m\u001b[43m \u001b[49m\u001b[43m\\\u001b[49m\n\u001b[1;32m    223\u001b[0m \u001b[43m        \u001b[49m\u001b[43mtorch\u001b[49m\u001b[38;5;241;43m.\u001b[39;49m\u001b[43mmatmul\u001b[49m\u001b[43m(\u001b[49m\u001b[43mh_tm1\u001b[49m\u001b[43m,\u001b[49m\u001b[43m \u001b[49m\u001b[38;5;28;43mself\u001b[39;49m\u001b[38;5;241;43m.\u001b[39;49m\u001b[43mW_hh\u001b[49m\u001b[43m)\u001b[49m \u001b[38;5;241m+\u001b[39m \u001b[38;5;28mself\u001b[39m\u001b[38;5;241m.\u001b[39mbias\n\u001b[1;32m    224\u001b[0m \u001b[38;5;28;01melse\u001b[39;00m:\n\u001b[1;32m    225\u001b[0m     gates \u001b[38;5;241m=\u001b[39m torch\u001b[38;5;241m.\u001b[39mmatmul(x, \u001b[38;5;28mself\u001b[39m\u001b[38;5;241m.\u001b[39mW_ih) \u001b[38;5;241m+\u001b[39m \\\n\u001b[1;32m    226\u001b[0m         torch\u001b[38;5;241m.\u001b[39mmatmul(h_tm1, \u001b[38;5;28mself\u001b[39m\u001b[38;5;241m.\u001b[39mW_hh)\n",
      "\u001b[0;31mRuntimeError\u001b[0m: The size of tensor a (30) must match the size of tensor b (150) at non-singleton dimension 0"
     ]
    },
    {
     "data": {
      "text/html": [
       "<table width=\"100%\"><tr><td style=\"text-align:left;\"><button class=\"stack-trace-btn\" onclick=\"window.open('https://google.com/search?q=RuntimeError%3A%20The%20size%20of%20tensor%20a%20%2830%29%20must%20match%20the%20size%20of%20tensor%20b%20%28150%29%20at%20non-singleton%20dimension%200+site:stackoverflow.com', '_blank');\">Search Stack Overflow</button></td><td style=\"text-align:right;\"><button class=\"stack-trace-btn\" onclick=\"window.open('https://www.bing.com/search?iscopilotedu=1&sendquery=1&q=Please%20help%20me%20with%20the%20following%20error%3A%0A---------------------------------------------------------------------------%0ARuntimeError%20%20%20%20%20%20%20%20%20%20%20%20%20%20%20%20%20%20%20%20%20%20%20%20%20%20%20%20%20%20Traceback%20%28most%20recent%20call%20last%29%0ACell%20In%5B11%5D%2C%20line%206%0A%20%20%20%20%20%204%20epochs%20%3D%2030%0A%20%20%20%20%20%205%20for%20epoch%20in%20range%28epochs%29%3A%0A----%3E%206%20%20%20%20%20train_loss%20%3D%20train%28model%2C%20train_loader%2C%20criterion%2C%20optimizer%2C%20device%29%0A%20%20%20%20%20%207%20%20%20%20%20test_loss%2C%20test_accuracy%20%3D%20validate%28model%2C%20test_loader%2C%20criterion%2C%20device%29%0A%20%20%20%20%20%209%20%20%20%20%20train_losses.append%28train_loss%29%0A%0ACell%20In%5B10%5D%2C%20line%2020%2C%20in%20train%28model%2C%20train_loader%2C%20criterion%2C%20optimizer%2C%20device%29%0A%20%20%20%20%2018%20else%3A%0A%20%20%20%20%2019%20%20%20%20%20optimizer.zero_grad%28%29%0A---%3E%2020%20%20%20%20%20output%20%3D%20model%28data%29%0A%20%20%20%20%2021%20%20%20%20%20loss%20%3D%20criterion%28output%2C%20target%29%0A%20%20%20%20%2022%20%20%20%20%20loss.backward%28%29%0A%0AFile%20%7E/.cache/pypoetry/virtualenvs/chainanal-oSZkYA31-py3.10/lib/python3.10/site-packages/torch/nn/modules/module.py%3A1511%2C%20in%20Module._wrapped_call_impl%28self%2C%20*args%2C%20**kwargs%29%0A%20%20%201509%20%20%20%20%20return%20self._compiled_call_impl%28*args%2C%20**kwargs%29%20%20%23%20type%3A%20ignore%5Bmisc%5D%0A%20%20%201510%20else%3A%0A-%3E%201511%20%20%20%20%20return%20self._call_impl%28*args%2C%20**kwargs%29%0A%0AFile%20%7E/.cache/pypoetry/virtualenvs/chainanal-oSZkYA31-py3.10/lib/python3.10/site-packages/torch/nn/modules/module.py%3A1520%2C%20in%20Module._call_impl%28self%2C%20*args%2C%20**kwargs%29%0A%20%20%201515%20%23%20If%20we%20don%27t%20have%20any%20hooks%2C%20we%20want%20to%20skip%20the%20rest%20of%20the%20logic%20in%0A%20%20%201516%20%23%20this%20function%2C%20and%20just%20call%20forward.%0A%20%20%201517%20if%20not%20%28self._backward_hooks%20or%20self._backward_pre_hooks%20or%20self._forward_hooks%20or%20self._forward_pre_hooks%0A%20%20%201518%20%20%20%20%20%20%20%20%20or%20_global_backward_pre_hooks%20or%20_global_backward_hooks%0A%20%20%201519%20%20%20%20%20%20%20%20%20or%20_global_forward_hooks%20or%20_global_forward_pre_hooks%29%3A%0A-%3E%201520%20%20%20%20%20return%20forward_call%28*args%2C%20**kwargs%29%0A%20%20%201522%20try%3A%0A%20%20%201523%20%20%20%20%20result%20%3D%20None%0A%0AFile%20%7E/Development/notebooks/torchkan/torchkan/models/tkat.py%3A249%2C%20in%20TKAT.forward%28self%2C%20x%29%0A%20%20%20%20247%20print%28f%22%5BTKAT%5D%20encode_out%20shape%3A%20%7Bencode_out.shape%7D%22%29%0A%20%20%20%20248%20print%28f%22%5BTKAT%5D%20encode_states%20shape%3A%20%7Blen%28encode_states%29%7D%2C%20state%3A%20%7B%5Bs.shape%20for%20s%20in%20encode_states%5B0%5D%5D%7D%22%29%0A--%3E%20249%20decode_out%20%3D%20self.decoder%28variable_selection_future%2C%20initial_state%3Dencode_states%29%0A%20%20%20%20251%20history%20%3D%20torch.cat%28%5Bencode_out%2C%20decode_out%5D%2C%20dim%3D1%29%0A%20%20%20%20253%20selected%20%3D%20torch.cat%28%5Bvariable_selection_past%2C%20variable_selection_future%5D%2C%20dim%3D1%29%0A%0AFile%20%7E/.cache/pypoetry/virtualenvs/chainanal-oSZkYA31-py3.10/lib/python3.10/site-packages/torch/nn/modules/module.py%3A1511%2C%20in%20Module._wrapped_call_impl%28self%2C%20*args%2C%20**kwargs%29%0A%20%20%201509%20%20%20%20%20return%20self._compiled_call_impl%28*args%2C%20**kwargs%29%20%20%23%20type%3A%20ignore%5Bmisc%5D%0A%20%20%201510%20else%3A%0A-%3E%201511%20%20%20%20%20return%20self._call_impl%28*args%2C%20**kwargs%29%0A%0AFile%20%7E/.cache/pypoetry/virtualenvs/chainanal-oSZkYA31-py3.10/lib/python3.10/site-packages/torch/nn/modules/module.py%3A1520%2C%20in%20Module._call_impl%28self%2C%20*args%2C%20**kwargs%29%0A%20%20%201515%20%23%20If%20we%20don%27t%20have%20any%20hooks%2C%20we%20want%20to%20skip%20the%20rest%20of%20the%20logic%20in%0A%20%20%201516%20%23%20this%20function%2C%20and%20just%20call%20forward.%0A%20%20%201517%20if%20not%20%28self._backward_hooks%20or%20self._backward_pre_hooks%20or%20self._forward_hooks%20or%20self._forward_pre_hooks%0A%20%20%201518%20%20%20%20%20%20%20%20%20or%20_global_backward_pre_hooks%20or%20_global_backward_hooks%0A%20%20%201519%20%20%20%20%20%20%20%20%20or%20_global_forward_hooks%20or%20_global_forward_pre_hooks%29%3A%0A-%3E%201520%20%20%20%20%20return%20forward_call%28*args%2C%20**kwargs%29%0A%20%20%201522%20try%3A%0A%20%20%201523%20%20%20%20%20result%20%3D%20None%0A%0AFile%20%7E/Development/notebooks/torchkan/torchkan/models/tkat.py%3A133%2C%20in%20RecurrentLayer.forward%28self%2C%20x%2C%20initial_state%29%0A%20%20%20%20131%20%20%20%20%20if%20not%20isinstance%28initial_state%2C%20%28tuple%2C%20list%29%29%3A%0A%20%20%20%20132%20%20%20%20%20%20%20%20%20print%28f%22%5BRecurrentLayer%5D%20%5B%7Bself.name%7D%5D%5Ct%20initial_state%20shape%3A%20%7B%5Bs.shape%20for%20s%20in%20initial_state%5D%7D%22%29%0A--%3E%20133%20output%2C%20hidden%20%3D%20self.layer%28x%2C%20initial_state%29%0A%20%20%20%20134%20if%20isinstance%28hidden%2C%20%28tuple%2C%20list%29%29%3A%0A%20%20%20%20135%20%20%20%20%20if%20len%28hidden%29%20%3D%3D%202%3A%0A%0AFile%20%7E/.cache/pypoetry/virtualenvs/chainanal-oSZkYA31-py3.10/lib/python3.10/site-packages/torch/nn/modules/module.py%3A1511%2C%20in%20Module._wrapped_call_impl%28self%2C%20*args%2C%20**kwargs%29%0A%20%20%201509%20%20%20%20%20return%20self._compiled_call_impl%28*args%2C%20**kwargs%29%20%20%23%20type%3A%20ignore%5Bmisc%5D%0A%20%20%201510%20else%3A%0A-%3E%201511%20%20%20%20%20return%20self._call_impl%28*args%2C%20**kwargs%29%0A%0AFile%20%7E/.cache/pypoetry/virtualenvs/chainanal-oSZkYA31-py3.10/lib/python3.10/site-packages/torch/nn/modules/module.py%3A1520%2C%20in%20Module._call_impl%28self%2C%20*args%2C%20**kwargs%29%0A%20%20%201515%20%23%20If%20we%20don%27t%20have%20any%20hooks%2C%20we%20want%20to%20skip%20the%20rest%20of%20the%20logic%20in%0A%20%20%201516%20%23%20this%20function%2C%20and%20just%20call%20forward.%0A%20%20%201517%20if%20not%20%28self._backward_hooks%20or%20self._backward_pre_hooks%20or%20self._forward_hooks%20or%20self._forward_pre_hooks%0A%20%20%201518%20%20%20%20%20%20%20%20%20or%20_global_backward_pre_hooks%20or%20_global_backward_hooks%0A%20%20%201519%20%20%20%20%20%20%20%20%20or%20_global_forward_hooks%20or%20_global_forward_pre_hooks%29%3A%0A-%3E%201520%20%20%20%20%20return%20forward_call%28*args%2C%20**kwargs%29%0A%20%20%201522%20try%3A%0A%20%20%201523%20%20%20%20%20result%20%3D%20None%0A%0AFile%20%7E/Development/notebooks/torchkan/torchkan/models/tkan.py%3A325%2C%20in%20TKAN.forward%28self%2C%20x%2C%20initial_states%29%0A%20%20%20%20322%20steps%20%3D%20reversed%28range%28x.size%280%29%29%29%20if%20direction%20%3D%3D%201%20else%20range%28x.size%280%29%29%0A%20%20%20%20324%20for%20t%20in%20steps%3A%0A--%3E%20325%20%20%20%20%20h%2C%20state%20%3D%20cell%28x%5Bt%5D%2C%20state%29%0A%20%20%20%20326%20%20%20%20%20output_layer.append%28h.unsqueeze%280%29%29%0A%20%20%20%20327%20%20%20%20%20print%28f%22%5BTKAN%5D%5Ct%20added%20output_layer%21%20%7Blen%28output_layer%29%7D%22%29%0A%0AFile%20%7E/.cache/pypoetry/virtualenvs/chainanal-oSZkYA31-py3.10/lib/python3.10/site-packages/torch/nn/modules/module.py%3A1511%2C%20in%20Module._wrapped_call_impl%28self%2C%20*args%2C%20**kwargs%29%0A%20%20%201509%20%20%20%20%20return%20self._compiled_call_impl%28*args%2C%20**kwargs%29%20%20%23%20type%3A%20ignore%5Bmisc%5D%0A%20%20%201510%20else%3A%0A-%3E%201511%20%20%20%20%20return%20self._call_impl%28*args%2C%20**kwargs%29%0A%0AFile%20%7E/.cache/pypoetry/virtualenvs/chainanal-oSZkYA31-py3.10/lib/python3.10/site-packages/torch/nn/modules/module.py%3A1520%2C%20in%20Module._call_impl%28self%2C%20*args%2C%20**kwargs%29%0A%20%20%201515%20%23%20If%20we%20don%27t%20have%20any%20hooks%2C%20we%20want%20to%20skip%20the%20rest%20of%20the%20logic%20in%0A%20%20%201516%20%23%20this%20function%2C%20and%20just%20call%20forward.%0A%20%20%201517%20if%20not%20%28self._backward_hooks%20or%20self._backward_pre_hooks%20or%20self._forward_hooks%20or%20self._forward_pre_hooks%0A%20%20%201518%20%20%20%20%20%20%20%20%20or%20_global_backward_pre_hooks%20or%20_global_backward_hooks%0A%20%20%201519%20%20%20%20%20%20%20%20%20or%20_global_forward_hooks%20or%20_global_forward_pre_hooks%29%3A%0A-%3E%201520%20%20%20%20%20return%20forward_call%28*args%2C%20**kwargs%29%0A%20%20%201522%20try%3A%0A%20%20%201523%20%20%20%20%20result%20%3D%20None%0A%0AFile%20%7E/Development/notebooks/torchkan/torchkan/models/tkan.py%3A222%2C%20in%20TKANCell.forward%28self%2C%20x%2C%20states%29%0A%20%20%20%20219%20%20%20%20%20%20%20%20%20h_tm1%20*%3D%20rec_dp_mask%0A%20%20%20%20221%20if%20self.use_bias%3A%0A--%3E%20222%20%20%20%20%20gates%20%3D%20torch.matmul%28x%2C%20self.W_ih%29%20+%20%5C%0A%20%20%20%20223%20%20%20%20%20%20%20%20%20torch.matmul%28h_tm1%2C%20self.W_hh%29%20+%20self.bias%0A%20%20%20%20224%20else%3A%0A%20%20%20%20225%20%20%20%20%20gates%20%3D%20torch.matmul%28x%2C%20self.W_ih%29%20+%20%5C%0A%20%20%20%20226%20%20%20%20%20%20%20%20%20torch.matmul%28h_tm1%2C%20self.W_hh%29%0A%0ARuntimeError%3A%20The%20size%20of%20tensor%20a%20%2830%29%20must%20match%20the%20size%20of%20tensor%20b%20%28150%29%20at%20non-singleton%20dimension%200', '_blank');\">Ask Bing Chat</button></td></tr></table>"
      ]
     },
     "metadata": {},
     "output_type": "display_data"
    }
   ],
   "source": [
    "train_losses = []\n",
    "test_losses = []\n",
    "\n",
    "epochs = 30\n",
    "for epoch in range(epochs):\n",
    "    train_loss = train(model, train_loader, criterion, optimizer, device)\n",
    "    test_loss, test_accuracy = validate(model, test_loader, criterion, device)\n",
    "\n",
    "    train_losses.append(train_loss)\n",
    "    test_losses.append(test_loss)\n",
    "    \n",
    "    print(f'Epoch {epoch + 1}, Train Loss: {train_loss:.4f}, '\n",
    "        f'Test Loss: {test_loss:.4f}, Test Acc: {test_accuracy:.2f}')"
   ]
  },
  {
   "cell_type": "code",
   "execution_count": null,
   "id": "cc606d31-898b-42ef-a07b-8f36109c0e7b",
   "metadata": {},
   "outputs": [],
   "source": []
  },
  {
   "cell_type": "code",
   "execution_count": null,
   "id": "ca97d0c0-f79a-49ee-9449-d9252a0313bf",
   "metadata": {},
   "outputs": [],
   "source": [
    "model.decoder.layer.__dict__"
   ]
  },
  {
   "cell_type": "code",
   "execution_count": null,
   "id": "7e314c5b-9ca2-4831-a7b4-c8dc0222f3f8",
   "metadata": {},
   "outputs": [],
   "source": []
  },
  {
   "cell_type": "code",
   "execution_count": null,
   "id": "dea962fc-65ae-431c-91ef-9f18d00e9f9f",
   "metadata": {},
   "outputs": [],
   "source": []
  },
  {
   "cell_type": "code",
   "execution_count": null,
   "id": "e617c802-56b0-43cb-b0f0-285b173b4c90",
   "metadata": {},
   "outputs": [],
   "source": []
  },
  {
   "cell_type": "code",
   "execution_count": null,
   "id": "60503689-1474-4220-858b-0f2b17956271",
   "metadata": {},
   "outputs": [],
   "source": []
  }
 ],
 "metadata": {
  "kernelspec": {
   "display_name": "Python 3 (ipykernel)",
   "language": "python",
   "name": "python3"
  },
  "language_info": {
   "codemirror_mode": {
    "name": "ipython",
    "version": 3
   },
   "file_extension": ".py",
   "mimetype": "text/x-python",
   "name": "python",
   "nbconvert_exporter": "python",
   "pygments_lexer": "ipython3",
   "version": "3.10.12"
  }
 },
 "nbformat": 4,
 "nbformat_minor": 5
}

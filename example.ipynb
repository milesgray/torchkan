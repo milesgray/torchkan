{
 "cells": [
  {
   "cell_type": "code",
   "execution_count": 3,
   "id": "ec922ccb-77ad-4c48-929c-74e3f9b996d3",
   "metadata": {},
   "outputs": [
    {
     "name": "stdout",
     "output_type": "stream",
     "text": [
      "Collecting iisignature\n",
      "  Using cached iisignature-0.24-cp310-cp310-linux_x86_64.whl\n",
      "Requirement already satisfied: numpy>1.7 in /home/miles/.cache/pypoetry/virtualenvs/chainanal-oSZkYA31-py3.10/lib/python3.10/site-packages (from iisignature) (1.25.1)\n",
      "Installing collected packages: iisignature\n",
      "Successfully installed iisignature-0.24\n",
      "\n",
      "\u001b[1m[\u001b[0m\u001b[34;49mnotice\u001b[0m\u001b[1;39;49m]\u001b[0m\u001b[39;49m A new release of pip is available: \u001b[0m\u001b[31;49m24.1.1\u001b[0m\u001b[39;49m -> \u001b[0m\u001b[32;49m24.2\u001b[0m\n",
      "\u001b[1m[\u001b[0m\u001b[34;49mnotice\u001b[0m\u001b[1;39;49m]\u001b[0m\u001b[39;49m To update, run: \u001b[0m\u001b[32;49mpip install --upgrade pip\u001b[0m\n"
     ]
    }
   ],
   "source": [
    "!pip install iisignature"
   ]
  },
  {
   "cell_type": "code",
   "execution_count": 1,
   "id": "d2179081-b6bf-49ab-ae18-88f27e0d2ef1",
   "metadata": {},
   "outputs": [],
   "source": [
    "import time\n",
    "import tqdm\n",
    "import torch\n",
    "from torch import nn, optim\n",
    "import numpy as np\n",
    "import pandas as pd\n",
    "from IPython.display import display\n",
    "import matplotlib.pyplot as plt"
   ]
  },
  {
   "cell_type": "code",
   "execution_count": 11,
   "id": "b7d167dc-794c-4521-9135-ef390683d252",
   "metadata": {},
   "outputs": [],
   "source": [
    "from torchkan.data import timeseries\n",
    "from torchkan.models import TKAT, TKAN"
   ]
  },
  {
   "cell_type": "code",
   "execution_count": 3,
   "id": "3372e6c2-bd6f-449c-b909-6acd5b1186c6",
   "metadata": {},
   "outputs": [
    {
     "data": {
      "text/plain": [
       "150"
      ]
     },
     "execution_count": 3,
     "metadata": {},
     "output_type": "execute_result"
    }
   ],
   "source": [
    "num_hidden = 100\n",
    "num_heads = 4\n",
    "num_embedding = 19\n",
    "n_ahead = 30\n",
    "sequence_length = 5 * n_ahead\n",
    "sequence_length"
   ]
  },
  {
   "cell_type": "code",
   "execution_count": 4,
   "id": "ba7a913b-3829-45fe-bb2e-cda7f2ab27cd",
   "metadata": {},
   "outputs": [],
   "source": [
    "def get_crypto_dataloaders(\n",
    "    path = \"torchkan/data/data.parquet\", \n",
    "    n_ahead = 30\n",
    "):\n",
    "    # Load California housing dataset\n",
    "    df = timeseries.load_crypto(path)\n",
    "    \n",
    "    X_scaler, X_train, X_test, \\\n",
    "        X_train_unscaled, X_test_unscaled, \\\n",
    "            y_scaler, y_train, y_test, \\\n",
    "                y_train_unscaled, y_test_unscaled, \\\n",
    "                    y_scaler_train, y_scaler_test = timeseries.generate(df, sequence_length, n_ahead)\n",
    "\n",
    "    # Create data loaders (optional, if you want to batch and shuffle the data)\n",
    "    train_loader = torch.utils.data.DataLoader(torch.utils.data.TensorDataset(X_train, y_train), batch_size=1, shuffle=True)\n",
    "    test_loader = torch.utils.data.DataLoader(torch.utils.data.TensorDataset(X_test, y_test), batch_size=1, shuffle=False)\n",
    "\n",
    "    return train_loader, test_loader"
   ]
  },
  {
   "cell_type": "code",
   "execution_count": 5,
   "id": "b458ed3c-3c9a-43cb-a787-2ab63aaceec5",
   "metadata": {},
   "outputs": [
    {
     "name": "stderr",
     "output_type": "stream",
     "text": [
      "/home/miles/Development/notebooks/torchkan/torchkan/data/timeseries.py:82: UserWarning: To copy construct from a tensor, it is recommended to use sourceTensor.clone().detach() or sourceTensor.clone().detach().requires_grad_(True), rather than torch.tensor(sourceTensor).\n",
      "  return torch.tensor(data, dtype=dtype).to(device)\n"
     ]
    },
    {
     "data": {
      "text/plain": [
       "([torch.Size([20607, 150, 19]), torch.Size([20607, 30])],\n",
       " [torch.Size([20607, 150, 19]), torch.Size([20607, 30])])"
      ]
     },
     "execution_count": 5,
     "metadata": {},
     "output_type": "execute_result"
    }
   ],
   "source": [
    "train_loader, test_loader = get_crypto_dataloaders()\n",
    "[t.shape for t in train_loader.dataset.tensors], [t.shape for t in train_loader.dataset.tensors]"
   ]
  },
  {
   "cell_type": "code",
   "execution_count": 6,
   "id": "6898d63d-6465-4981-b7f6-f48d483e8723",
   "metadata": {},
   "outputs": [
    {
     "data": {
      "text/plain": [
       "torch.Size([20607, 150, 1])"
      ]
     },
     "execution_count": 6,
     "metadata": {},
     "output_type": "execute_result"
    }
   ],
   "source": [
    "shape = train_loader.dataset.tensors[0].shape\n",
    "torch.split(train_loader.dataset.tensors[0], (1,) * shape[-1], -1)[0].shape"
   ]
  },
  {
   "cell_type": "code",
   "execution_count": 13,
   "id": "af457bbf-7834-4916-9d52-c290592a14fd",
   "metadata": {},
   "outputs": [
    {
     "data": {
      "text/plain": [
       "TKAN(\n",
       "  (tkan_cells): ModuleList(\n",
       "    (0): TKANCell(\n",
       "      (tkan_sub_layers): ModuleList(\n",
       "        (0): KANLinear(\n",
       "          (linear): Linear(in_features=150, out_features=150, bias=True)\n",
       "          (layer_norm): LayerNorm((150,), eps=1e-05, elementwise_affine=True)\n",
       "        )\n",
       "      )\n",
       "    )\n",
       "  )\n",
       ")"
      ]
     },
     "execution_count": 13,
     "metadata": {},
     "output_type": "execute_result"
    }
   ],
   "source": [
    "model = TKAN(input_size=sequence_length, hidden_size=num_hidden)\n",
    "model"
   ]
  },
  {
   "cell_type": "code",
   "execution_count": 7,
   "id": "a8c27031-7045-4ed0-82c6-66bd2e5dc298",
   "metadata": {
    "scrolled": true
   },
   "outputs": [
    {
     "data": {
      "text/plain": [
       "TKAT(\n",
       "  (embedding_layer): EmbeddingLayer(\n",
       "    (dense_layers): ModuleList(\n",
       "      (0-18): 19 x Linear(in_features=1, out_features=100, bias=True)\n",
       "    )\n",
       "  )\n",
       "  (vsn_past_features): VariableSelectionNetwork()\n",
       "  (vsn_future_features): VariableSelectionNetwork()\n",
       "  (encoder): RecurrentLayer(\n",
       "    (layer): TKAN(\n",
       "      (tkan_cells): ModuleList(\n",
       "        (0): TKANCell(\n",
       "          (tkan_sub_layers): ModuleList(\n",
       "            (0): KANLinear(\n",
       "              (linear): Linear(in_features=100, out_features=100, bias=True)\n",
       "              (layer_norm): LayerNorm((100,), eps=1e-05, elementwise_affine=True)\n",
       "            )\n",
       "          )\n",
       "        )\n",
       "      )\n",
       "    )\n",
       "  )\n",
       "  (decoder): RecurrentLayer(\n",
       "    (layer): TKAN(\n",
       "      (tkan_cells): ModuleList(\n",
       "        (0): TKANCell(\n",
       "          (tkan_sub_layers): ModuleList(\n",
       "            (0): KANLinear(\n",
       "              (linear): Linear(in_features=100, out_features=100, bias=True)\n",
       "              (layer_norm): LayerNorm((100,), eps=1e-05, elementwise_affine=True)\n",
       "            )\n",
       "          )\n",
       "        )\n",
       "      )\n",
       "    )\n",
       "  )\n",
       "  (gate): Gate()\n",
       "  (add_and_norm): AddAndNorm(\n",
       "    (norm_layer): LayerNorm((100,), eps=1e-05, elementwise_affine=True)\n",
       "  )\n",
       "  (grn): GRN(\n",
       "    (skip_layer): Linear(in_features=100, out_features=100, bias=True)\n",
       "    (hidden_layer_1): Sequential(\n",
       "      (0): Linear(in_features=100, out_features=100, bias=True)\n",
       "      (1): ELU(alpha=1.0)\n",
       "    )\n",
       "    (hidden_layer_2): Linear(in_features=100, out_features=100, bias=True)\n",
       "    (gate_layer): Gate()\n",
       "    (add_and_norm_layer): AddAndNorm(\n",
       "      (norm_layer): LayerNorm((100,), eps=1e-05, elementwise_affine=True)\n",
       "    )\n",
       "  )\n",
       "  (attention): MultiheadAttention(\n",
       "    (out_proj): NonDynamicallyQuantizableLinear(in_features=100, out_features=100, bias=True)\n",
       "  )\n",
       "  (final_dense): Linear(in_features=2700000, out_features=30, bias=True)\n",
       ")"
      ]
     },
     "execution_count": 7,
     "metadata": {},
     "output_type": "execute_result"
    }
   ],
   "source": [
    "model = TKAT(\n",
    "            inpput_=sequence_length, \n",
    "            num_unknown_features=5, \n",
    "            num_known_features=3, \n",
    "            num_embedding=num_embedding, \n",
    "            num_hidden=num_hidden, \n",
    "            num_heads=num_heads, \n",
    "            n_ahead=n_ahead, \n",
    "            use_tkan=True\n",
    "        )\n",
    "model"
   ]
  },
  {
   "cell_type": "code",
   "execution_count": 14,
   "id": "f794c7bb-e89e-469b-85b3-d042dac40bdd",
   "metadata": {},
   "outputs": [
    {
     "name": "stdout",
     "output_type": "stream",
     "text": [
      "Total trainable parameters: 158950\n"
     ]
    }
   ],
   "source": [
    "total_params = sum(p.numel() for p in model.parameters() if p.requires_grad)\n",
    "print(f\"Total trainable parameters: {total_params}\")\n",
    "\n",
    "criterion = nn.CrossEntropyLoss()\n",
    "\n",
    "# LBFGS is really slow\n",
    "# optimizer = optim.LBFGS(model.parameters(), lr=0.01)\n",
    "# Adam works with very low lr\n",
    "optimizer = optim.Adam(model.parameters(), lr=0.0002)\n",
    "device = torch.device('cuda' if torch.cuda.is_available() else 'cpu')"
   ]
  },
  {
   "cell_type": "code",
   "execution_count": 15,
   "id": "d0c065c2-efb9-405d-890a-a27bf28bddf2",
   "metadata": {},
   "outputs": [],
   "source": [
    "\n",
    "def train(model, train_loader, criterion, optimizer, device):\n",
    "    model.train()\n",
    "    total_loss = 0\n",
    "    correct = 0\n",
    "    \n",
    "    for idx, (data, target) in enumerate(train_loader):\n",
    "        data, target = data.to(device), target.to(device)\n",
    "        print(f\"data: {data.shape}\")\n",
    "\n",
    "        if isinstance(optimizer, optim.LBFGS):\n",
    "            def closure():\n",
    "                optimizer.zero_grad()\n",
    "                output = model(data)\n",
    "                loss = criterion(output, target)\n",
    "                loss.backward()\n",
    "                return loss\n",
    "            loss = optimizer.step(closure)\n",
    "        else:\n",
    "            optimizer.zero_grad()\n",
    "            output = model(data)\n",
    "            loss = criterion(output, target)\n",
    "            loss.backward()\n",
    "            optimizer.step()\n",
    "            loss = loss.item()\n",
    "            \n",
    "        total_loss += loss\n",
    "        \n",
    "    return total_loss / len(train_loader)\n",
    "\n",
    "def validate(model, test_loader, criterion, device):\n",
    "    model.eval()\n",
    "    total_loss = 0\n",
    "    correct = 0\n",
    "    with torch.no_grad():\n",
    "        for data, target in test_loader:\n",
    "            data, target = data.to(device), target.to(device)\n",
    "            \n",
    "            output = model(data)\n",
    "            loss = criterion(output, target)\n",
    "            total_loss += loss.item()\n",
    "            pred = output.argmax(dim=1, keepdim=True)\n",
    "            correct += pred.eq(target.view_as(pred)).sum().item()\n",
    "\n",
    "    return total_loss / len(test_loader), correct / len(test_loader.dataset)    "
   ]
  },
  {
   "cell_type": "code",
   "execution_count": 16,
   "id": "e528269b-57a3-4fcb-a4c2-7e02bef635aa",
   "metadata": {
    "scrolled": true
   },
   "outputs": [
    {
     "name": "stdout",
     "output_type": "stream",
     "text": [
      "data: torch.Size([1, 150, 19])\n"
     ]
    },
    {
     "ename": "RuntimeError",
     "evalue": "mat1 and mat2 shapes cannot be multiplied (150x19 and 300x150)",
     "output_type": "error",
     "traceback": [
      "\u001b[0;31m---------------------------------------------------------------------------\u001b[0m",
      "\u001b[0;31mRuntimeError\u001b[0m                              Traceback (most recent call last)",
      "Cell \u001b[0;32mIn[16], line 6\u001b[0m\n\u001b[1;32m      4\u001b[0m epochs \u001b[38;5;241m=\u001b[39m \u001b[38;5;241m30\u001b[39m\n\u001b[1;32m      5\u001b[0m \u001b[38;5;28;01mfor\u001b[39;00m epoch \u001b[38;5;129;01min\u001b[39;00m \u001b[38;5;28mrange\u001b[39m(epochs):\n\u001b[0;32m----> 6\u001b[0m     train_loss \u001b[38;5;241m=\u001b[39m \u001b[43mtrain\u001b[49m\u001b[43m(\u001b[49m\u001b[43mmodel\u001b[49m\u001b[43m,\u001b[49m\u001b[43m \u001b[49m\u001b[43mtrain_loader\u001b[49m\u001b[43m,\u001b[49m\u001b[43m \u001b[49m\u001b[43mcriterion\u001b[49m\u001b[43m,\u001b[49m\u001b[43m \u001b[49m\u001b[43moptimizer\u001b[49m\u001b[43m,\u001b[49m\u001b[43m \u001b[49m\u001b[43mdevice\u001b[49m\u001b[43m)\u001b[49m\n\u001b[1;32m      7\u001b[0m     test_loss, test_accuracy \u001b[38;5;241m=\u001b[39m validate(model, test_loader, criterion, device)\n\u001b[1;32m      9\u001b[0m     train_losses\u001b[38;5;241m.\u001b[39mappend(train_loss)\n",
      "Cell \u001b[0;32mIn[15], line 20\u001b[0m, in \u001b[0;36mtrain\u001b[0;34m(model, train_loader, criterion, optimizer, device)\u001b[0m\n\u001b[1;32m     18\u001b[0m \u001b[38;5;28;01melse\u001b[39;00m:\n\u001b[1;32m     19\u001b[0m     optimizer\u001b[38;5;241m.\u001b[39mzero_grad()\n\u001b[0;32m---> 20\u001b[0m     output \u001b[38;5;241m=\u001b[39m \u001b[43mmodel\u001b[49m\u001b[43m(\u001b[49m\u001b[43mdata\u001b[49m\u001b[43m)\u001b[49m\n\u001b[1;32m     21\u001b[0m     loss \u001b[38;5;241m=\u001b[39m criterion(output, target)\n\u001b[1;32m     22\u001b[0m     loss\u001b[38;5;241m.\u001b[39mbackward()\n",
      "File \u001b[0;32m~/.cache/pypoetry/virtualenvs/chainanal-oSZkYA31-py3.10/lib/python3.10/site-packages/torch/nn/modules/module.py:1511\u001b[0m, in \u001b[0;36mModule._wrapped_call_impl\u001b[0;34m(self, *args, **kwargs)\u001b[0m\n\u001b[1;32m   1509\u001b[0m     \u001b[38;5;28;01mreturn\u001b[39;00m \u001b[38;5;28mself\u001b[39m\u001b[38;5;241m.\u001b[39m_compiled_call_impl(\u001b[38;5;241m*\u001b[39margs, \u001b[38;5;241m*\u001b[39m\u001b[38;5;241m*\u001b[39mkwargs)  \u001b[38;5;66;03m# type: ignore[misc]\u001b[39;00m\n\u001b[1;32m   1510\u001b[0m \u001b[38;5;28;01melse\u001b[39;00m:\n\u001b[0;32m-> 1511\u001b[0m     \u001b[38;5;28;01mreturn\u001b[39;00m \u001b[38;5;28;43mself\u001b[39;49m\u001b[38;5;241;43m.\u001b[39;49m\u001b[43m_call_impl\u001b[49m\u001b[43m(\u001b[49m\u001b[38;5;241;43m*\u001b[39;49m\u001b[43margs\u001b[49m\u001b[43m,\u001b[49m\u001b[43m \u001b[49m\u001b[38;5;241;43m*\u001b[39;49m\u001b[38;5;241;43m*\u001b[39;49m\u001b[43mkwargs\u001b[49m\u001b[43m)\u001b[49m\n",
      "File \u001b[0;32m~/.cache/pypoetry/virtualenvs/chainanal-oSZkYA31-py3.10/lib/python3.10/site-packages/torch/nn/modules/module.py:1520\u001b[0m, in \u001b[0;36mModule._call_impl\u001b[0;34m(self, *args, **kwargs)\u001b[0m\n\u001b[1;32m   1515\u001b[0m \u001b[38;5;66;03m# If we don't have any hooks, we want to skip the rest of the logic in\u001b[39;00m\n\u001b[1;32m   1516\u001b[0m \u001b[38;5;66;03m# this function, and just call forward.\u001b[39;00m\n\u001b[1;32m   1517\u001b[0m \u001b[38;5;28;01mif\u001b[39;00m \u001b[38;5;129;01mnot\u001b[39;00m (\u001b[38;5;28mself\u001b[39m\u001b[38;5;241m.\u001b[39m_backward_hooks \u001b[38;5;129;01mor\u001b[39;00m \u001b[38;5;28mself\u001b[39m\u001b[38;5;241m.\u001b[39m_backward_pre_hooks \u001b[38;5;129;01mor\u001b[39;00m \u001b[38;5;28mself\u001b[39m\u001b[38;5;241m.\u001b[39m_forward_hooks \u001b[38;5;129;01mor\u001b[39;00m \u001b[38;5;28mself\u001b[39m\u001b[38;5;241m.\u001b[39m_forward_pre_hooks\n\u001b[1;32m   1518\u001b[0m         \u001b[38;5;129;01mor\u001b[39;00m _global_backward_pre_hooks \u001b[38;5;129;01mor\u001b[39;00m _global_backward_hooks\n\u001b[1;32m   1519\u001b[0m         \u001b[38;5;129;01mor\u001b[39;00m _global_forward_hooks \u001b[38;5;129;01mor\u001b[39;00m _global_forward_pre_hooks):\n\u001b[0;32m-> 1520\u001b[0m     \u001b[38;5;28;01mreturn\u001b[39;00m \u001b[43mforward_call\u001b[49m\u001b[43m(\u001b[49m\u001b[38;5;241;43m*\u001b[39;49m\u001b[43margs\u001b[49m\u001b[43m,\u001b[49m\u001b[43m \u001b[49m\u001b[38;5;241;43m*\u001b[39;49m\u001b[38;5;241;43m*\u001b[39;49m\u001b[43mkwargs\u001b[49m\u001b[43m)\u001b[49m\n\u001b[1;32m   1522\u001b[0m \u001b[38;5;28;01mtry\u001b[39;00m:\n\u001b[1;32m   1523\u001b[0m     result \u001b[38;5;241m=\u001b[39m \u001b[38;5;28;01mNone\u001b[39;00m\n",
      "File \u001b[0;32m~/Development/notebooks/torchkan/torchkan/models/tkan.py:194\u001b[0m, in \u001b[0;36mTKAN.forward\u001b[0;34m(self, x, initial_states)\u001b[0m\n\u001b[1;32m    191\u001b[0m steps \u001b[38;5;241m=\u001b[39m \u001b[38;5;28mreversed\u001b[39m(\u001b[38;5;28mrange\u001b[39m(x\u001b[38;5;241m.\u001b[39msize(\u001b[38;5;241m0\u001b[39m))) \u001b[38;5;28;01mif\u001b[39;00m direction \u001b[38;5;241m==\u001b[39m \u001b[38;5;241m1\u001b[39m \u001b[38;5;28;01melse\u001b[39;00m \u001b[38;5;28mrange\u001b[39m(x\u001b[38;5;241m.\u001b[39msize(\u001b[38;5;241m0\u001b[39m))\n\u001b[1;32m    193\u001b[0m \u001b[38;5;28;01mfor\u001b[39;00m t \u001b[38;5;129;01min\u001b[39;00m steps:\n\u001b[0;32m--> 194\u001b[0m     h, state \u001b[38;5;241m=\u001b[39m \u001b[43mcell\u001b[49m\u001b[43m(\u001b[49m\u001b[43mx\u001b[49m\u001b[43m[\u001b[49m\u001b[43mt\u001b[49m\u001b[43m]\u001b[49m\u001b[43m,\u001b[49m\u001b[43m \u001b[49m\u001b[43mstate\u001b[49m\u001b[43m)\u001b[49m\n\u001b[1;32m    195\u001b[0m     output_layer\u001b[38;5;241m.\u001b[39mappend(h\u001b[38;5;241m.\u001b[39munsqueeze(\u001b[38;5;241m0\u001b[39m))\n\u001b[1;32m    197\u001b[0m last_states\u001b[38;5;241m.\u001b[39mappend(state)\n",
      "File \u001b[0;32m~/.cache/pypoetry/virtualenvs/chainanal-oSZkYA31-py3.10/lib/python3.10/site-packages/torch/nn/modules/module.py:1511\u001b[0m, in \u001b[0;36mModule._wrapped_call_impl\u001b[0;34m(self, *args, **kwargs)\u001b[0m\n\u001b[1;32m   1509\u001b[0m     \u001b[38;5;28;01mreturn\u001b[39;00m \u001b[38;5;28mself\u001b[39m\u001b[38;5;241m.\u001b[39m_compiled_call_impl(\u001b[38;5;241m*\u001b[39margs, \u001b[38;5;241m*\u001b[39m\u001b[38;5;241m*\u001b[39mkwargs)  \u001b[38;5;66;03m# type: ignore[misc]\u001b[39;00m\n\u001b[1;32m   1510\u001b[0m \u001b[38;5;28;01melse\u001b[39;00m:\n\u001b[0;32m-> 1511\u001b[0m     \u001b[38;5;28;01mreturn\u001b[39;00m \u001b[38;5;28;43mself\u001b[39;49m\u001b[38;5;241;43m.\u001b[39;49m\u001b[43m_call_impl\u001b[49m\u001b[43m(\u001b[49m\u001b[38;5;241;43m*\u001b[39;49m\u001b[43margs\u001b[49m\u001b[43m,\u001b[49m\u001b[43m \u001b[49m\u001b[38;5;241;43m*\u001b[39;49m\u001b[38;5;241;43m*\u001b[39;49m\u001b[43mkwargs\u001b[49m\u001b[43m)\u001b[49m\n",
      "File \u001b[0;32m~/.cache/pypoetry/virtualenvs/chainanal-oSZkYA31-py3.10/lib/python3.10/site-packages/torch/nn/modules/module.py:1520\u001b[0m, in \u001b[0;36mModule._call_impl\u001b[0;34m(self, *args, **kwargs)\u001b[0m\n\u001b[1;32m   1515\u001b[0m \u001b[38;5;66;03m# If we don't have any hooks, we want to skip the rest of the logic in\u001b[39;00m\n\u001b[1;32m   1516\u001b[0m \u001b[38;5;66;03m# this function, and just call forward.\u001b[39;00m\n\u001b[1;32m   1517\u001b[0m \u001b[38;5;28;01mif\u001b[39;00m \u001b[38;5;129;01mnot\u001b[39;00m (\u001b[38;5;28mself\u001b[39m\u001b[38;5;241m.\u001b[39m_backward_hooks \u001b[38;5;129;01mor\u001b[39;00m \u001b[38;5;28mself\u001b[39m\u001b[38;5;241m.\u001b[39m_backward_pre_hooks \u001b[38;5;129;01mor\u001b[39;00m \u001b[38;5;28mself\u001b[39m\u001b[38;5;241m.\u001b[39m_forward_hooks \u001b[38;5;129;01mor\u001b[39;00m \u001b[38;5;28mself\u001b[39m\u001b[38;5;241m.\u001b[39m_forward_pre_hooks\n\u001b[1;32m   1518\u001b[0m         \u001b[38;5;129;01mor\u001b[39;00m _global_backward_pre_hooks \u001b[38;5;129;01mor\u001b[39;00m _global_backward_hooks\n\u001b[1;32m   1519\u001b[0m         \u001b[38;5;129;01mor\u001b[39;00m _global_forward_hooks \u001b[38;5;129;01mor\u001b[39;00m _global_forward_pre_hooks):\n\u001b[0;32m-> 1520\u001b[0m     \u001b[38;5;28;01mreturn\u001b[39;00m \u001b[43mforward_call\u001b[49m\u001b[43m(\u001b[49m\u001b[38;5;241;43m*\u001b[39;49m\u001b[43margs\u001b[49m\u001b[43m,\u001b[49m\u001b[43m \u001b[49m\u001b[38;5;241;43m*\u001b[39;49m\u001b[38;5;241;43m*\u001b[39;49m\u001b[43mkwargs\u001b[49m\u001b[43m)\u001b[49m\n\u001b[1;32m   1522\u001b[0m \u001b[38;5;28;01mtry\u001b[39;00m:\n\u001b[1;32m   1523\u001b[0m     result \u001b[38;5;241m=\u001b[39m \u001b[38;5;28;01mNone\u001b[39;00m\n",
      "File \u001b[0;32m~/Development/notebooks/torchkan/torchkan/models/tkan.py:97\u001b[0m, in \u001b[0;36mTKANCell.forward\u001b[0;34m(self, input, states)\u001b[0m\n\u001b[1;32m     94\u001b[0m \u001b[38;5;28;01mdef\u001b[39;00m \u001b[38;5;21mforward\u001b[39m(\u001b[38;5;28mself\u001b[39m, \u001b[38;5;28minput\u001b[39m, states):\n\u001b[1;32m     95\u001b[0m     h_prev, c_prev, \u001b[38;5;241m*\u001b[39msub_states \u001b[38;5;241m=\u001b[39m states\n\u001b[0;32m---> 97\u001b[0m     gates \u001b[38;5;241m=\u001b[39m \u001b[43mF\u001b[49m\u001b[38;5;241;43m.\u001b[39;49m\u001b[43mlinear\u001b[49m\u001b[43m(\u001b[49m\u001b[38;5;28;43minput\u001b[39;49m\u001b[43m,\u001b[49m\u001b[43m \u001b[49m\u001b[38;5;28;43mself\u001b[39;49m\u001b[38;5;241;43m.\u001b[39;49m\u001b[43mW_ih\u001b[49m\u001b[43m,\u001b[49m\u001b[43m \u001b[49m\u001b[38;5;28;43mself\u001b[39;49m\u001b[38;5;241;43m.\u001b[39;49m\u001b[43mbias_ih\u001b[49m\u001b[43m)\u001b[49m \u001b[38;5;241m+\u001b[39m F\u001b[38;5;241m.\u001b[39mlinear(h_prev, \u001b[38;5;28mself\u001b[39m\u001b[38;5;241m.\u001b[39mW_hh, \u001b[38;5;28mself\u001b[39m\u001b[38;5;241m.\u001b[39mbias_hh)\n\u001b[1;32m     98\u001b[0m     i, f, g \u001b[38;5;241m=\u001b[39m gates\u001b[38;5;241m.\u001b[39mchunk(\u001b[38;5;241m3\u001b[39m, \u001b[38;5;241m1\u001b[39m)\n\u001b[1;32m    100\u001b[0m     i \u001b[38;5;241m=\u001b[39m \u001b[38;5;28mself\u001b[39m\u001b[38;5;241m.\u001b[39mrecurrent_activation(i)\n",
      "\u001b[0;31mRuntimeError\u001b[0m: mat1 and mat2 shapes cannot be multiplied (150x19 and 300x150)"
     ]
    },
    {
     "data": {
      "text/html": [
       "<table width=\"100%\"><tr><td style=\"text-align:left;\"><button class=\"stack-trace-btn\" onclick=\"window.open('https://google.com/search?q=RuntimeError%3A%20mat1%20and%20mat2%20shapes%20cannot%20be%20multiplied%20%28150x19%20and%20300x150%29+site:stackoverflow.com', '_blank');\">Search Stack Overflow</button></td><td style=\"text-align:right;\"><button class=\"stack-trace-btn\" onclick=\"window.open('https://www.bing.com/search?iscopilotedu=1&sendquery=1&q=Please%20help%20me%20with%20the%20following%20error%3A%0A---------------------------------------------------------------------------%0ARuntimeError%20%20%20%20%20%20%20%20%20%20%20%20%20%20%20%20%20%20%20%20%20%20%20%20%20%20%20%20%20%20Traceback%20%28most%20recent%20call%20last%29%0ACell%20In%5B16%5D%2C%20line%206%0A%20%20%20%20%20%204%20epochs%20%3D%2030%0A%20%20%20%20%20%205%20for%20epoch%20in%20range%28epochs%29%3A%0A----%3E%206%20%20%20%20%20train_loss%20%3D%20train%28model%2C%20train_loader%2C%20criterion%2C%20optimizer%2C%20device%29%0A%20%20%20%20%20%207%20%20%20%20%20test_loss%2C%20test_accuracy%20%3D%20validate%28model%2C%20test_loader%2C%20criterion%2C%20device%29%0A%20%20%20%20%20%209%20%20%20%20%20train_losses.append%28train_loss%29%0A%0ACell%20In%5B15%5D%2C%20line%2020%2C%20in%20train%28model%2C%20train_loader%2C%20criterion%2C%20optimizer%2C%20device%29%0A%20%20%20%20%2018%20else%3A%0A%20%20%20%20%2019%20%20%20%20%20optimizer.zero_grad%28%29%0A---%3E%2020%20%20%20%20%20output%20%3D%20model%28data%29%0A%20%20%20%20%2021%20%20%20%20%20loss%20%3D%20criterion%28output%2C%20target%29%0A%20%20%20%20%2022%20%20%20%20%20loss.backward%28%29%0A%0AFile%20%7E/.cache/pypoetry/virtualenvs/chainanal-oSZkYA31-py3.10/lib/python3.10/site-packages/torch/nn/modules/module.py%3A1511%2C%20in%20Module._wrapped_call_impl%28self%2C%20*args%2C%20**kwargs%29%0A%20%20%201509%20%20%20%20%20return%20self._compiled_call_impl%28*args%2C%20**kwargs%29%20%20%23%20type%3A%20ignore%5Bmisc%5D%0A%20%20%201510%20else%3A%0A-%3E%201511%20%20%20%20%20return%20self._call_impl%28*args%2C%20**kwargs%29%0A%0AFile%20%7E/.cache/pypoetry/virtualenvs/chainanal-oSZkYA31-py3.10/lib/python3.10/site-packages/torch/nn/modules/module.py%3A1520%2C%20in%20Module._call_impl%28self%2C%20*args%2C%20**kwargs%29%0A%20%20%201515%20%23%20If%20we%20don%27t%20have%20any%20hooks%2C%20we%20want%20to%20skip%20the%20rest%20of%20the%20logic%20in%0A%20%20%201516%20%23%20this%20function%2C%20and%20just%20call%20forward.%0A%20%20%201517%20if%20not%20%28self._backward_hooks%20or%20self._backward_pre_hooks%20or%20self._forward_hooks%20or%20self._forward_pre_hooks%0A%20%20%201518%20%20%20%20%20%20%20%20%20or%20_global_backward_pre_hooks%20or%20_global_backward_hooks%0A%20%20%201519%20%20%20%20%20%20%20%20%20or%20_global_forward_hooks%20or%20_global_forward_pre_hooks%29%3A%0A-%3E%201520%20%20%20%20%20return%20forward_call%28*args%2C%20**kwargs%29%0A%20%20%201522%20try%3A%0A%20%20%201523%20%20%20%20%20result%20%3D%20None%0A%0AFile%20%7E/Development/notebooks/torchkan/torchkan/models/tkan.py%3A194%2C%20in%20TKAN.forward%28self%2C%20x%2C%20initial_states%29%0A%20%20%20%20191%20steps%20%3D%20reversed%28range%28x.size%280%29%29%29%20if%20direction%20%3D%3D%201%20else%20range%28x.size%280%29%29%0A%20%20%20%20193%20for%20t%20in%20steps%3A%0A--%3E%20194%20%20%20%20%20h%2C%20state%20%3D%20cell%28x%5Bt%5D%2C%20state%29%0A%20%20%20%20195%20%20%20%20%20output_layer.append%28h.unsqueeze%280%29%29%0A%20%20%20%20197%20last_states.append%28state%29%0A%0AFile%20%7E/.cache/pypoetry/virtualenvs/chainanal-oSZkYA31-py3.10/lib/python3.10/site-packages/torch/nn/modules/module.py%3A1511%2C%20in%20Module._wrapped_call_impl%28self%2C%20*args%2C%20**kwargs%29%0A%20%20%201509%20%20%20%20%20return%20self._compiled_call_impl%28*args%2C%20**kwargs%29%20%20%23%20type%3A%20ignore%5Bmisc%5D%0A%20%20%201510%20else%3A%0A-%3E%201511%20%20%20%20%20return%20self._call_impl%28*args%2C%20**kwargs%29%0A%0AFile%20%7E/.cache/pypoetry/virtualenvs/chainanal-oSZkYA31-py3.10/lib/python3.10/site-packages/torch/nn/modules/module.py%3A1520%2C%20in%20Module._call_impl%28self%2C%20*args%2C%20**kwargs%29%0A%20%20%201515%20%23%20If%20we%20don%27t%20have%20any%20hooks%2C%20we%20want%20to%20skip%20the%20rest%20of%20the%20logic%20in%0A%20%20%201516%20%23%20this%20function%2C%20and%20just%20call%20forward.%0A%20%20%201517%20if%20not%20%28self._backward_hooks%20or%20self._backward_pre_hooks%20or%20self._forward_hooks%20or%20self._forward_pre_hooks%0A%20%20%201518%20%20%20%20%20%20%20%20%20or%20_global_backward_pre_hooks%20or%20_global_backward_hooks%0A%20%20%201519%20%20%20%20%20%20%20%20%20or%20_global_forward_hooks%20or%20_global_forward_pre_hooks%29%3A%0A-%3E%201520%20%20%20%20%20return%20forward_call%28*args%2C%20**kwargs%29%0A%20%20%201522%20try%3A%0A%20%20%201523%20%20%20%20%20result%20%3D%20None%0A%0AFile%20%7E/Development/notebooks/torchkan/torchkan/models/tkan.py%3A97%2C%20in%20TKANCell.forward%28self%2C%20input%2C%20states%29%0A%20%20%20%20%2094%20def%20forward%28self%2C%20input%2C%20states%29%3A%0A%20%20%20%20%2095%20%20%20%20%20h_prev%2C%20c_prev%2C%20*sub_states%20%3D%20states%0A---%3E%2097%20%20%20%20%20gates%20%3D%20F.linear%28input%2C%20self.W_ih%2C%20self.bias_ih%29%20+%20F.linear%28h_prev%2C%20self.W_hh%2C%20self.bias_hh%29%0A%20%20%20%20%2098%20%20%20%20%20i%2C%20f%2C%20g%20%3D%20gates.chunk%283%2C%201%29%0A%20%20%20%20100%20%20%20%20%20i%20%3D%20self.recurrent_activation%28i%29%0A%0ARuntimeError%3A%20mat1%20and%20mat2%20shapes%20cannot%20be%20multiplied%20%28150x19%20and%20300x150%29', '_blank');\">Ask Bing Chat</button></td></tr></table>"
      ]
     },
     "metadata": {},
     "output_type": "display_data"
    }
   ],
   "source": [
    "train_losses = []\n",
    "test_losses = []\n",
    "\n",
    "epochs = 30\n",
    "for epoch in range(epochs):\n",
    "    train_loss = train(model, train_loader, criterion, optimizer, device)\n",
    "    test_loss, test_accuracy = validate(model, test_loader, criterion, device)\n",
    "\n",
    "    train_losses.append(train_loss)\n",
    "    test_losses.append(test_loss)\n",
    "    \n",
    "    print(f'Epoch {epoch + 1}, Train Loss: {train_loss:.4f}, '\n",
    "        f'Test Loss: {test_loss:.4f}, Test Acc: {test_accuracy:.2f}')"
   ]
  },
  {
   "cell_type": "code",
   "execution_count": null,
   "id": "3e97f8b0-ae64-45db-b984-5f764e066d8c",
   "metadata": {},
   "outputs": [],
   "source": []
  },
  {
   "cell_type": "code",
   "execution_count": null,
   "id": "65ac4479-0405-4340-9533-062f761ad4f5",
   "metadata": {},
   "outputs": [],
   "source": []
  }
 ],
 "metadata": {
  "kernelspec": {
   "display_name": "Python 3 (ipykernel)",
   "language": "python",
   "name": "python3"
  },
  "language_info": {
   "codemirror_mode": {
    "name": "ipython",
    "version": 3
   },
   "file_extension": ".py",
   "mimetype": "text/x-python",
   "name": "python",
   "nbconvert_exporter": "python",
   "pygments_lexer": "ipython3",
   "version": "3.10.12"
  }
 },
 "nbformat": 4,
 "nbformat_minor": 5
}
